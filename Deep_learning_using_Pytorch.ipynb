{
  "nbformat": 4,
  "nbformat_minor": 0,
  "metadata": {
    "colab": {
      "provenance": [],
      "collapsed_sections": [],
      "authorship_tag": "ABX9TyOZG6czUX0+IYQGkr456jFL",
      "include_colab_link": true
    },
    "kernelspec": {
      "name": "python3",
      "display_name": "Python 3"
    },
    "language_info": {
      "name": "python"
    }
  },
  "cells": [
    {
      "cell_type": "markdown",
      "metadata": {
        "id": "view-in-github",
        "colab_type": "text"
      },
      "source": [
        "<a href=\"https://colab.research.google.com/github/Harish-aditya/DeepLearning_using-_Pytorch./blob/main/Deep_learning_using_Pytorch.ipynb\" target=\"_parent\"><img src=\"https://colab.research.google.com/assets/colab-badge.svg\" alt=\"Open In Colab\"/></a>"
      ]
    },
    {
      "cell_type": "markdown",
      "source": [
        "Import Functions."
      ],
      "metadata": {
        "id": "B2QsMrNdDNT9"
      }
    },
    {
      "cell_type": "code",
      "execution_count": 37,
      "metadata": {
        "id": "SzaAkfEm5dzk"
      },
      "outputs": [],
      "source": [
        "from __future__ import print_function\n",
        "import torch"
      ]
    },
    {
      "cell_type": "markdown",
      "source": [
        "Pytorch compared to NumPy\n",
        "Matrix formation using Pytorch"
      ],
      "metadata": {
        "id": "-9iQm2WvHSaj"
      }
    },
    {
      "cell_type": "code",
      "source": [
        "torch.tensor([[2,3,5],[1,2,9]])"
      ],
      "metadata": {
        "colab": {
          "base_uri": "https://localhost:8080/"
        },
        "id": "inTTsJM-G0I5",
        "outputId": "853f3d10-fd00-4c24-800b-e0ca3f69f23a"
      },
      "execution_count": 38,
      "outputs": [
        {
          "output_type": "execute_result",
          "data": {
            "text/plain": [
              "tensor([[2, 3, 5],\n",
              "        [1, 2, 9]])"
            ]
          },
          "metadata": {},
          "execution_count": 38
        }
      ]
    },
    {
      "cell_type": "code",
      "source": [
        "torch.rand(2,2)"
      ],
      "metadata": {
        "colab": {
          "base_uri": "https://localhost:8080/"
        },
        "id": "C2YxlxSYKdYF",
        "outputId": "e4357f87-ff14-40a7-c22a-4b708f142e36"
      },
      "execution_count": 39,
      "outputs": [
        {
          "output_type": "execute_result",
          "data": {
            "text/plain": [
              "tensor([[0.3859, 0.8708],\n",
              "        [0.2143, 0.1002]])"
            ]
          },
          "metadata": {},
          "execution_count": 39
        }
      ]
    },
    {
      "cell_type": "code",
      "source": [
        "a = torch.rand((3,5))\n",
        "a"
      ],
      "metadata": {
        "colab": {
          "base_uri": "https://localhost:8080/"
        },
        "id": "s5C1Te0lKiTG",
        "outputId": "222195d8-2b66-4e76-9ae4-38ac3855f4e9"
      },
      "execution_count": 40,
      "outputs": [
        {
          "output_type": "execute_result",
          "data": {
            "text/plain": [
              "tensor([[0.9355, 0.8558, 0.5006, 0.6860, 0.0374],\n",
              "        [0.9026, 0.7091, 0.1104, 0.6571, 0.0066],\n",
              "        [0.7332, 0.2494, 0.7024, 0.1393, 0.9579]])"
            ]
          },
          "metadata": {},
          "execution_count": 40
        }
      ]
    },
    {
      "cell_type": "code",
      "source": [
        "a.shape"
      ],
      "metadata": {
        "colab": {
          "base_uri": "https://localhost:8080/"
        },
        "id": "9hmmMdR5Kniu",
        "outputId": "730e0dae-4651-421d-9226-c86062aaa31c"
      },
      "execution_count": 41,
      "outputs": [
        {
          "output_type": "execute_result",
          "data": {
            "text/plain": [
              "torch.Size([3, 5])"
            ]
          },
          "metadata": {},
          "execution_count": 41
        }
      ]
    },
    {
      "cell_type": "markdown",
      "source": [
        "Matrix formation using numpy"
      ],
      "metadata": {
        "id": "nXRAT6RZLIMa"
      }
    },
    {
      "cell_type": "code",
      "source": [
        "import numpy as np\n",
        "np.array([[2,3,4],[1,2,3]])"
      ],
      "metadata": {
        "colab": {
          "base_uri": "https://localhost:8080/"
        },
        "id": "oD6EVcE3LFuf",
        "outputId": "c1f832d6-f79b-4f4b-fde2-bf15b5a46331"
      },
      "execution_count": 42,
      "outputs": [
        {
          "output_type": "execute_result",
          "data": {
            "text/plain": [
              "array([[2, 3, 4],\n",
              "       [1, 2, 3]])"
            ]
          },
          "metadata": {},
          "execution_count": 42
        }
      ]
    },
    {
      "cell_type": "code",
      "source": [
        "np.random.rand(2,2)"
      ],
      "metadata": {
        "colab": {
          "base_uri": "https://localhost:8080/"
        },
        "id": "lHbScLckVZaI",
        "outputId": "0a6312f8-b118-4dd4-ffef-007863b628ad"
      },
      "execution_count": 43,
      "outputs": [
        {
          "output_type": "execute_result",
          "data": {
            "text/plain": [
              "array([[0.73588927, 0.5468706 ],\n",
              "       [0.10001735, 0.34471219]])"
            ]
          },
          "metadata": {},
          "execution_count": 43
        }
      ]
    },
    {
      "cell_type": "markdown",
      "source": [
        "# Construct a randomly initialized matrix and operation using Pytorch"
      ],
      "metadata": {
        "id": "dkj1JzVrVtDc"
      }
    },
    {
      "cell_type": "code",
      "source": [
        "a = torch.rand((2,2))\n",
        "b = torch.rand((2,2))"
      ],
      "metadata": {
        "id": "FgxgTTrVVdew"
      },
      "execution_count": 44,
      "outputs": []
    },
    {
      "cell_type": "code",
      "source": [
        "torch.matmul(a,b)"
      ],
      "metadata": {
        "colab": {
          "base_uri": "https://localhost:8080/"
        },
        "id": "liD93K_pWfWm",
        "outputId": "4bb1220e-93d4-469c-e235-65db2efaff3e"
      },
      "execution_count": 45,
      "outputs": [
        {
          "output_type": "execute_result",
          "data": {
            "text/plain": [
              "tensor([[0.3186, 0.4151],\n",
              "        [0.6087, 0.8439]])"
            ]
          },
          "metadata": {},
          "execution_count": 45
        }
      ]
    },
    {
      "cell_type": "code",
      "source": [
        "a*b"
      ],
      "metadata": {
        "colab": {
          "base_uri": "https://localhost:8080/"
        },
        "id": "UXa40uDZWodf",
        "outputId": "2ec51446-07c6-44a8-8bc8-b62fb7c5221a"
      },
      "execution_count": 46,
      "outputs": [
        {
          "output_type": "execute_result",
          "data": {
            "text/plain": [
              "tensor([[0.1377, 0.1941],\n",
              "        [0.0424, 0.7984]])"
            ]
          },
          "metadata": {},
          "execution_count": 46
        }
      ]
    },
    {
      "cell_type": "code",
      "source": [
        "a"
      ],
      "metadata": {
        "colab": {
          "base_uri": "https://localhost:8080/"
        },
        "id": "aTEaQ24ZWtKH",
        "outputId": "d6e499a8-5d9e-4767-e273-b7ed29926363"
      },
      "execution_count": 47,
      "outputs": [
        {
          "output_type": "execute_result",
          "data": {
            "text/plain": [
              "tensor([[0.2142, 0.2571],\n",
              "        [0.0602, 0.8103]])"
            ]
          },
          "metadata": {},
          "execution_count": 47
        }
      ]
    },
    {
      "cell_type": "code",
      "source": [
        "a"
      ],
      "metadata": {
        "colab": {
          "base_uri": "https://localhost:8080/"
        },
        "id": "_Qw5YckNWucz",
        "outputId": "ddd45e2b-9de3-4734-859b-54ea6b9d0a20"
      },
      "execution_count": 48,
      "outputs": [
        {
          "output_type": "execute_result",
          "data": {
            "text/plain": [
              "tensor([[0.2142, 0.2571],\n",
              "        [0.0602, 0.8103]])"
            ]
          },
          "metadata": {},
          "execution_count": 48
        }
      ]
    },
    {
      "cell_type": "markdown",
      "source": [
        "Construct a randomly initialized matrix and operation using NumPy"
      ],
      "metadata": {
        "id": "-aJtdNhXW-Ba"
      }
    },
    {
      "cell_type": "code",
      "source": [
        "a = np.random.rand(2,2)\n",
        "b = np.random.rand(2,2)"
      ],
      "metadata": {
        "id": "gOYvd1V2XDOq"
      },
      "execution_count": 49,
      "outputs": []
    },
    {
      "cell_type": "code",
      "source": [
        "np.dot(a,b)\n",
        "# normal matrix multiplication\n",
        "# Where the condition of number of columns of first array should be equal to number of rows of second array is checked.\n",
        "# then only numpy.dot() function take place else it throws an error."
      ],
      "metadata": {
        "colab": {
          "base_uri": "https://localhost:8080/"
        },
        "id": "xgB04qGZXMdO",
        "outputId": "41f6674c-6672-4861-b404-0871c0cd1a52"
      },
      "execution_count": 50,
      "outputs": [
        {
          "output_type": "execute_result",
          "data": {
            "text/plain": [
              "array([[0.29840869, 0.28745561],\n",
              "       [0.29288571, 0.38794701]])"
            ]
          },
          "metadata": {},
          "execution_count": 50
        }
      ]
    },
    {
      "cell_type": "code",
      "source": [
        "np.multiply(a,b)\n",
        "# '*' \n",
        "# element wise multiplication"
      ],
      "metadata": {
        "colab": {
          "base_uri": "https://localhost:8080/"
        },
        "id": "dz-PcCqhXOvr",
        "outputId": "9cc0b4de-9adf-4f92-a61c-a845c8198676"
      },
      "execution_count": 51,
      "outputs": [
        {
          "output_type": "execute_result",
          "data": {
            "text/plain": [
              "array([[0.28035362, 0.02249965],\n",
              "       [0.12635658, 0.23048546]])"
            ]
          },
          "metadata": {},
          "execution_count": 51
        }
      ]
    },
    {
      "cell_type": "markdown",
      "source": [
        "### Construct a 5x3 matrix uninitialized:"
      ],
      "metadata": {
        "id": "ne59XlYYVY4h"
      }
    },
    {
      "cell_type": "code",
      "source": [
        "x = torch.empty(5,3)"
      ],
      "metadata": {
        "id": "iwqtAY3pVUep"
      },
      "execution_count": 52,
      "outputs": []
    },
    {
      "cell_type": "code",
      "source": [
        "x"
      ],
      "metadata": {
        "colab": {
          "base_uri": "https://localhost:8080/"
        },
        "id": "V-JmSdO7ViDD",
        "outputId": "c56f8975-d534-4770-936f-06ee0f519600"
      },
      "execution_count": 53,
      "outputs": [
        {
          "output_type": "execute_result",
          "data": {
            "text/plain": [
              "tensor([[3.6240e-35, 0.0000e+00, 6.0213e-02],\n",
              "        [8.1032e-01, 2.6625e-44, 0.0000e+00],\n",
              "        [       nan,        nan, 0.0000e+00],\n",
              "        [0.0000e+00, 0.0000e+00, 0.0000e+00],\n",
              "        [0.0000e+00, 0.0000e+00, 0.0000e+00]])"
            ]
          },
          "metadata": {},
          "execution_count": 53
        }
      ]
    },
    {
      "cell_type": "markdown",
      "source": [
        "### Construct a matrix filled zeros and of dtypes long:"
      ],
      "metadata": {
        "id": "9ztx9sREVuLU"
      }
    },
    {
      "cell_type": "code",
      "source": [
        "y = torch.zeros((2,2))\n",
        "y"
      ],
      "metadata": {
        "colab": {
          "base_uri": "https://localhost:8080/"
        },
        "id": "_m6ixbA7V28R",
        "outputId": "40d6185f-67de-4b93-d3c5-d4d102863e80"
      },
      "execution_count": 54,
      "outputs": [
        {
          "output_type": "execute_result",
          "data": {
            "text/plain": [
              "tensor([[0., 0.],\n",
              "        [0., 0.]])"
            ]
          },
          "metadata": {},
          "execution_count": 54
        }
      ]
    },
    {
      "cell_type": "code",
      "source": [
        "y_num = np.zeros((2,2))\n",
        "y_num"
      ],
      "metadata": {
        "colab": {
          "base_uri": "https://localhost:8080/"
        },
        "id": "vismKOz9V-mY",
        "outputId": "74820eaf-2b62-43a2-9043-c2d74a701b55"
      },
      "execution_count": 55,
      "outputs": [
        {
          "output_type": "execute_result",
          "data": {
            "text/plain": [
              "array([[0., 0.],\n",
              "       [0., 0.]])"
            ]
          },
          "metadata": {},
          "execution_count": 55
        }
      ]
    },
    {
      "cell_type": "code",
      "source": [
        "x = torch.zeros(5,3,dtype = torch.long)\n",
        "print(x)"
      ],
      "metadata": {
        "colab": {
          "base_uri": "https://localhost:8080/"
        },
        "id": "5pq93_sIWK8x",
        "outputId": "f681090c-d07f-4976-d969-64b159d13c86"
      },
      "execution_count": 56,
      "outputs": [
        {
          "output_type": "stream",
          "name": "stdout",
          "text": [
            "tensor([[0, 0, 0],\n",
            "        [0, 0, 0],\n",
            "        [0, 0, 0],\n",
            "        [0, 0, 0],\n",
            "        [0, 0, 0]])\n"
          ]
        }
      ]
    },
    {
      "cell_type": "markdown",
      "source": [
        "### Construct a matrix of ones"
      ],
      "metadata": {
        "id": "56O4t7HxWao9"
      }
    },
    {
      "cell_type": "code",
      "source": [
        "o = torch.ones(2,2)"
      ],
      "metadata": {
        "id": "w7dzkpZtWYux"
      },
      "execution_count": 57,
      "outputs": []
    },
    {
      "cell_type": "code",
      "source": [
        "o"
      ],
      "metadata": {
        "colab": {
          "base_uri": "https://localhost:8080/"
        },
        "id": "zsIJIsRTWks5",
        "outputId": "3c8b772d-edc3-49bd-d0e2-cbccb49384ef"
      },
      "execution_count": 58,
      "outputs": [
        {
          "output_type": "execute_result",
          "data": {
            "text/plain": [
              "tensor([[1., 1.],\n",
              "        [1., 1.]])"
            ]
          },
          "metadata": {},
          "execution_count": 58
        }
      ]
    },
    {
      "cell_type": "code",
      "source": [
        "o_num = np.ones((2,2))\n",
        "o_num"
      ],
      "metadata": {
        "colab": {
          "base_uri": "https://localhost:8080/"
        },
        "id": "GHlMk33oW_Gj",
        "outputId": "6656655c-ca59-4301-cab9-39f9052fbf9d"
      },
      "execution_count": 59,
      "outputs": [
        {
          "output_type": "execute_result",
          "data": {
            "text/plain": [
              "array([[1., 1.],\n",
              "       [1., 1.]])"
            ]
          },
          "metadata": {},
          "execution_count": 59
        }
      ]
    },
    {
      "cell_type": "markdown",
      "source": [
        "### Construst identity matrix"
      ],
      "metadata": {
        "id": "drKpVi1PXRjk"
      }
    },
    {
      "cell_type": "code",
      "source": [
        "c_num = np.identity(5)\n",
        "c_num"
      ],
      "metadata": {
        "colab": {
          "base_uri": "https://localhost:8080/"
        },
        "id": "LjK2Sx3dXVni",
        "outputId": "c1c198be-2ead-4628-f754-9efbaf4b3edd"
      },
      "execution_count": 60,
      "outputs": [
        {
          "output_type": "execute_result",
          "data": {
            "text/plain": [
              "array([[1., 0., 0., 0., 0.],\n",
              "       [0., 1., 0., 0., 0.],\n",
              "       [0., 0., 1., 0., 0.],\n",
              "       [0., 0., 0., 1., 0.],\n",
              "       [0., 0., 0., 0., 1.]])"
            ]
          },
          "metadata": {},
          "execution_count": 60
        }
      ]
    },
    {
      "cell_type": "code",
      "source": [
        "c = torch.eye(2)\n",
        "c"
      ],
      "metadata": {
        "colab": {
          "base_uri": "https://localhost:8080/"
        },
        "id": "H47fCSiaXlto",
        "outputId": "2fcf4e99-de70-439d-8e58-340276c8c7bd"
      },
      "execution_count": 61,
      "outputs": [
        {
          "output_type": "execute_result",
          "data": {
            "text/plain": [
              "tensor([[1., 0.],\n",
              "        [0., 1.]])"
            ]
          },
          "metadata": {},
          "execution_count": 61
        }
      ]
    },
    {
      "cell_type": "markdown",
      "source": [
        "## Converting NumPy array to torch tensor see how changing the np array changed the Torch Tensor automatically"
      ],
      "metadata": {
        "id": "5B3ze4PlXp1v"
      }
    },
    {
      "cell_type": "code",
      "source": [
        "d = torch.from_numpy(c_num)"
      ],
      "metadata": {
        "id": "pD1FkSb_X36u"
      },
      "execution_count": 62,
      "outputs": []
    },
    {
      "cell_type": "code",
      "source": [
        "d"
      ],
      "metadata": {
        "colab": {
          "base_uri": "https://localhost:8080/"
        },
        "id": "hDnDejuMYEiH",
        "outputId": "b4acdebd-b50e-4db2-e3fa-54d60875de90"
      },
      "execution_count": 63,
      "outputs": [
        {
          "output_type": "execute_result",
          "data": {
            "text/plain": [
              "tensor([[1., 0., 0., 0., 0.],\n",
              "        [0., 1., 0., 0., 0.],\n",
              "        [0., 0., 1., 0., 0.],\n",
              "        [0., 0., 0., 1., 0.],\n",
              "        [0., 0., 0., 0., 1.]], dtype=torch.float64)"
            ]
          },
          "metadata": {},
          "execution_count": 63
        }
      ]
    },
    {
      "cell_type": "code",
      "source": [
        "d_num = c.numpy()\n",
        "d_num"
      ],
      "metadata": {
        "colab": {
          "base_uri": "https://localhost:8080/"
        },
        "id": "MW5x2cxVYXcq",
        "outputId": "65302af0-2f4d-47e6-dbce-de7242a5a25e"
      },
      "execution_count": 64,
      "outputs": [
        {
          "output_type": "execute_result",
          "data": {
            "text/plain": [
              "array([[1., 0.],\n",
              "       [0., 1.]], dtype=float32)"
            ]
          },
          "metadata": {},
          "execution_count": 64
        }
      ]
    },
    {
      "cell_type": "markdown",
      "source": [
        "## create a tensor based on an existing tensor."
      ],
      "metadata": {
        "id": "LDsPoD4lY55c"
      }
    },
    {
      "cell_type": "code",
      "source": [
        "x1 = x.new_ones(5,3, dtype=torch.double)\n",
        "print(x1)\n",
        "\n",
        "x2 = x.new_ones(5,3, dtype=torch.float)\n",
        "print(x2)\n",
        "\n",
        "x3 = torch.randn_like(x, dtype = float)\n",
        "print(x3)"
      ],
      "metadata": {
        "colab": {
          "base_uri": "https://localhost:8080/"
        },
        "id": "zbA0hkZ7Y5db",
        "outputId": "2cdc1821-7b4b-446c-877e-3bf9983af815"
      },
      "execution_count": 65,
      "outputs": [
        {
          "output_type": "stream",
          "name": "stdout",
          "text": [
            "tensor([[1., 1., 1.],\n",
            "        [1., 1., 1.],\n",
            "        [1., 1., 1.],\n",
            "        [1., 1., 1.],\n",
            "        [1., 1., 1.]], dtype=torch.float64)\n",
            "tensor([[1., 1., 1.],\n",
            "        [1., 1., 1.],\n",
            "        [1., 1., 1.],\n",
            "        [1., 1., 1.],\n",
            "        [1., 1., 1.]])\n",
            "tensor([[ 0.8252,  0.9380,  2.3256],\n",
            "        [ 0.9779, -1.1492, -0.6504],\n",
            "        [ 0.9263,  0.7974, -0.7171],\n",
            "        [ 0.4547,  1.9776, -0.1276],\n",
            "        [ 0.0383,  1.1650,  0.2044]], dtype=torch.float64)\n"
          ]
        }
      ]
    },
    {
      "cell_type": "markdown",
      "source": [
        "Size of the array of tensors."
      ],
      "metadata": {
        "id": "PJshBKHEZpz9"
      }
    },
    {
      "cell_type": "code",
      "source": [
        "print(x.size())"
      ],
      "metadata": {
        "colab": {
          "base_uri": "https://localhost:8080/"
        },
        "id": "hrYRZGQnZuo9",
        "outputId": "a56270bc-d6b4-438f-fb0c-d240e8606274"
      },
      "execution_count": 66,
      "outputs": [
        {
          "output_type": "stream",
          "name": "stdout",
          "text": [
            "torch.Size([5, 3])\n"
          ]
        }
      ]
    },
    {
      "cell_type": "markdown",
      "source": [
        "\"torch size\" is in fact a tuple, so it supports all tuple operations.\n",
        "Operations There are multiple syntaxes for operations. In the following example, we will take a look at the addition operations"
      ],
      "metadata": {
        "id": "CnaToo_Hob2N"
      }
    },
    {
      "cell_type": "code",
      "source": [
        "y = torch.rand(2,2)\n",
        "print(o,\"\\n\",y)\n",
        "print(o+y)"
      ],
      "metadata": {
        "colab": {
          "base_uri": "https://localhost:8080/"
        },
        "id": "-XeR3WxxZxjW",
        "outputId": "f71dbcd6-b786-47fc-e233-01a481a835bc"
      },
      "execution_count": 70,
      "outputs": [
        {
          "output_type": "stream",
          "name": "stdout",
          "text": [
            "tensor([[1., 1.],\n",
            "        [1., 1.]]) \n",
            " tensor([[0.4086, 0.1788],\n",
            "        [0.3081, 0.3803]])\n",
            "tensor([[1.4086, 1.1788],\n",
            "        [1.3081, 1.3803]])\n"
          ]
        }
      ]
    },
    {
      "cell_type": "code",
      "source": [
        "torch.add(o,y)"
      ],
      "metadata": {
        "colab": {
          "base_uri": "https://localhost:8080/"
        },
        "id": "lIHmSY75pWIz",
        "outputId": "d73c918d-b397-41d3-f740-30bb00c3873c"
      },
      "execution_count": 72,
      "outputs": [
        {
          "output_type": "execute_result",
          "data": {
            "text/plain": [
              "tensor([[1.4086, 1.1788],\n",
              "        [1.3081, 1.3803]])"
            ]
          },
          "metadata": {},
          "execution_count": 72
        }
      ]
    },
    {
      "cell_type": "markdown",
      "source": [
        "using out option to get output as arguement"
      ],
      "metadata": {
        "id": "hTxYngmXp2oH"
      }
    },
    {
      "cell_type": "code",
      "source": [
        "result = torch.empty(2,2)\n",
        "torch.add(o,y,out = result)\n",
        "result"
      ],
      "metadata": {
        "colab": {
          "base_uri": "https://localhost:8080/"
        },
        "id": "FOCIww2dpcP9",
        "outputId": "78635a26-72d9-46af-ee40-a9350607401e"
      },
      "execution_count": 73,
      "outputs": [
        {
          "output_type": "execute_result",
          "data": {
            "text/plain": [
              "tensor([[1.4086, 1.1788],\n",
              "        [1.3081, 1.3803]])"
            ]
          },
          "metadata": {},
          "execution_count": 73
        }
      ]
    },
    {
      "cell_type": "markdown",
      "source": [
        "Adding in place."
      ],
      "metadata": {
        "id": "YMzBSDdCqLXg"
      }
    },
    {
      "cell_type": "code",
      "source": [
        "o.add_(y)"
      ],
      "metadata": {
        "colab": {
          "base_uri": "https://localhost:8080/"
        },
        "id": "lrggP_ORp6Ej",
        "outputId": "792513c6-8ff9-4e03-d666-2138e885882d"
      },
      "execution_count": 75,
      "outputs": [
        {
          "output_type": "execute_result",
          "data": {
            "text/plain": [
              "tensor([[1.4086, 1.1788],\n",
              "        [1.3081, 1.3803]])"
            ]
          },
          "metadata": {},
          "execution_count": 75
        }
      ]
    },
    {
      "cell_type": "markdown",
      "source": [
        "Note:\n",
        "Any operation that mutates a tensor in-place is post-fixed with an \"_\". for example: \"x.copy_(y)\" "
      ],
      "metadata": {
        "id": "87L0DjUeqWYg"
      }
    },
    {
      "cell_type": "code",
      "source": [
        "index = torch.rand(5,5)\n",
        "index"
      ],
      "metadata": {
        "colab": {
          "base_uri": "https://localhost:8080/"
        },
        "id": "ctBZtiIUqTca",
        "outputId": "061528a6-badd-4ea5-856c-d9bff3936965"
      },
      "execution_count": 76,
      "outputs": [
        {
          "output_type": "execute_result",
          "data": {
            "text/plain": [
              "tensor([[0.0656, 0.6601, 0.8196, 0.7141, 0.8348],\n",
              "        [0.4806, 0.9646, 0.4859, 0.8044, 0.4466],\n",
              "        [0.0786, 0.8191, 0.0720, 0.0494, 0.4057],\n",
              "        [0.2796, 0.0910, 0.1765, 0.0071, 0.5349],\n",
              "        [0.1944, 0.7046, 0.5868, 0.6347, 0.4808]])"
            ]
          },
          "metadata": {},
          "execution_count": 76
        }
      ]
    },
    {
      "cell_type": "code",
      "source": [
        "index[:,0]"
      ],
      "metadata": {
        "colab": {
          "base_uri": "https://localhost:8080/"
        },
        "id": "elq3Xnn5rQ79",
        "outputId": "8a6e1272-0daf-4aeb-95f8-df77f1fd3df7"
      },
      "execution_count": 83,
      "outputs": [
        {
          "output_type": "execute_result",
          "data": {
            "text/plain": [
              "tensor([0.0786, 0.2796, 0.1944])"
            ]
          },
          "metadata": {},
          "execution_count": 83
        }
      ]
    },
    {
      "cell_type": "markdown",
      "source": [
        "Resizing: If you want to resize/reshape tensor, you can use torch.view:"
      ],
      "metadata": {
        "id": "D75PlGYw5P2O"
      }
    },
    {
      "cell_type": "code",
      "source": [
        "x2 = torch.randn(4,4)\n",
        "y = x2.view(16)\n",
        "y "
      ],
      "metadata": {
        "colab": {
          "base_uri": "https://localhost:8080/"
        },
        "id": "EAye8rgA5X6Z",
        "outputId": "c3c68515-6fa2-42ff-8782-76129efb6a5d"
      },
      "execution_count": 85,
      "outputs": [
        {
          "output_type": "execute_result",
          "data": {
            "text/plain": [
              "tensor([-0.2731,  1.4469, -1.6586,  0.8395, -0.0814,  0.2282,  0.2367, -0.0460,\n",
              "         0.9230, -0.2201,  0.7442, -0.2814,  0.1868,  0.0904,  0.2908,  0.9718])"
            ]
          },
          "metadata": {},
          "execution_count": 85
        }
      ]
    },
    {
      "cell_type": "markdown",
      "source": [
        "NumPy "
      ],
      "metadata": {
        "id": "X-keo-SM8OLs"
      }
    }
  ]
}