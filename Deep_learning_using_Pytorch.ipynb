{
  "nbformat": 4,
  "nbformat_minor": 0,
  "metadata": {
    "colab": {
      "provenance": [],
      "collapsed_sections": [],
      "authorship_tag": "ABX9TyNO60vw/pT6P1IJa21OiL7K",
      "include_colab_link": true
    },
    "kernelspec": {
      "name": "python3",
      "display_name": "Python 3"
    },
    "language_info": {
      "name": "python"
    }
  },
  "cells": [
    {
      "cell_type": "markdown",
      "metadata": {
        "id": "view-in-github",
        "colab_type": "text"
      },
      "source": [
        "<a href=\"https://colab.research.google.com/github/Harish-aditya/DeepLearning_using-_Pytorch./blob/main/Deep_learning_using_Pytorch.ipynb\" target=\"_parent\"><img src=\"https://colab.research.google.com/assets/colab-badge.svg\" alt=\"Open In Colab\"/></a>"
      ]
    },
    {
      "cell_type": "markdown",
      "source": [
        "Import Functions."
      ],
      "metadata": {
        "id": "B2QsMrNdDNT9"
      }
    },
    {
      "cell_type": "code",
      "execution_count": 1,
      "metadata": {
        "id": "SzaAkfEm5dzk"
      },
      "outputs": [],
      "source": [
        "from __future__ import print_function\n",
        "import torch"
      ]
    },
    {
      "cell_type": "markdown",
      "source": [
        "Pytorch compared to NumPy\n",
        "Matrix formation using Pytorch"
      ],
      "metadata": {
        "id": "-9iQm2WvHSaj"
      }
    },
    {
      "cell_type": "code",
      "source": [
        "torch.tensor([[2,3,5],[1,2,9]])"
      ],
      "metadata": {
        "colab": {
          "base_uri": "https://localhost:8080/"
        },
        "id": "inTTsJM-G0I5",
        "outputId": "8f3cec1b-7c92-4ec1-87cf-e88bfcf3e531"
      },
      "execution_count": 2,
      "outputs": [
        {
          "output_type": "execute_result",
          "data": {
            "text/plain": [
              "tensor([[2, 3, 5],\n",
              "        [1, 2, 9]])"
            ]
          },
          "metadata": {},
          "execution_count": 2
        }
      ]
    },
    {
      "cell_type": "code",
      "source": [
        "torch.rand(2,2)"
      ],
      "metadata": {
        "colab": {
          "base_uri": "https://localhost:8080/"
        },
        "id": "C2YxlxSYKdYF",
        "outputId": "fe15ca87-af34-4891-cfcc-a13bd92b7018"
      },
      "execution_count": 3,
      "outputs": [
        {
          "output_type": "execute_result",
          "data": {
            "text/plain": [
              "tensor([[0.2230, 0.8511],\n",
              "        [0.4853, 0.1175]])"
            ]
          },
          "metadata": {},
          "execution_count": 3
        }
      ]
    },
    {
      "cell_type": "code",
      "source": [
        "a = torch.rand((3,5))\n",
        "a"
      ],
      "metadata": {
        "colab": {
          "base_uri": "https://localhost:8080/"
        },
        "id": "s5C1Te0lKiTG",
        "outputId": "ac6377d2-53fe-43af-b66a-2a6dacbed412"
      },
      "execution_count": 4,
      "outputs": [
        {
          "output_type": "execute_result",
          "data": {
            "text/plain": [
              "tensor([[0.6711, 0.5028, 0.6296, 0.2790, 0.5140],\n",
              "        [0.7401, 0.7805, 0.7861, 0.9155, 0.3154],\n",
              "        [0.4362, 0.7878, 0.2695, 0.6655, 0.4432]])"
            ]
          },
          "metadata": {},
          "execution_count": 4
        }
      ]
    },
    {
      "cell_type": "code",
      "source": [
        "a.shape"
      ],
      "metadata": {
        "colab": {
          "base_uri": "https://localhost:8080/"
        },
        "id": "9hmmMdR5Kniu",
        "outputId": "9cd97f7d-7f5c-49fe-85af-a368438f1735"
      },
      "execution_count": 5,
      "outputs": [
        {
          "output_type": "execute_result",
          "data": {
            "text/plain": [
              "torch.Size([3, 5])"
            ]
          },
          "metadata": {},
          "execution_count": 5
        }
      ]
    },
    {
      "cell_type": "markdown",
      "source": [
        "Matrix formation using numpy"
      ],
      "metadata": {
        "id": "nXRAT6RZLIMa"
      }
    },
    {
      "cell_type": "code",
      "source": [
        "import numpy as np\n",
        "np.array([[2,3,4],[1,2,3]])"
      ],
      "metadata": {
        "colab": {
          "base_uri": "https://localhost:8080/"
        },
        "id": "oD6EVcE3LFuf",
        "outputId": "b2581b73-1162-4403-cbf8-0ed9fe2d9cd2"
      },
      "execution_count": 6,
      "outputs": [
        {
          "output_type": "execute_result",
          "data": {
            "text/plain": [
              "array([[2, 3, 4],\n",
              "       [1, 2, 3]])"
            ]
          },
          "metadata": {},
          "execution_count": 6
        }
      ]
    },
    {
      "cell_type": "code",
      "source": [
        "np.random.rand(2,2)"
      ],
      "metadata": {
        "colab": {
          "base_uri": "https://localhost:8080/"
        },
        "id": "lHbScLckVZaI",
        "outputId": "30ff954f-aca4-44d9-a1a2-776cf4c5d80e"
      },
      "execution_count": 7,
      "outputs": [
        {
          "output_type": "execute_result",
          "data": {
            "text/plain": [
              "array([[0.35752453, 0.54426411],\n",
              "       [0.12484242, 0.42776129]])"
            ]
          },
          "metadata": {},
          "execution_count": 7
        }
      ]
    },
    {
      "cell_type": "markdown",
      "source": [
        "# Construct a randomly initialized matrix and operation using Pytorch"
      ],
      "metadata": {
        "id": "dkj1JzVrVtDc"
      }
    },
    {
      "cell_type": "code",
      "source": [
        "a = torch.rand((2,2))\n",
        "b = torch.rand((2,2))"
      ],
      "metadata": {
        "id": "FgxgTTrVVdew"
      },
      "execution_count": 8,
      "outputs": []
    },
    {
      "cell_type": "code",
      "source": [
        "torch.matmul(a,b)"
      ],
      "metadata": {
        "colab": {
          "base_uri": "https://localhost:8080/"
        },
        "id": "liD93K_pWfWm",
        "outputId": "5bb46138-9e2d-4f9f-a196-ea64df5586fd"
      },
      "execution_count": 9,
      "outputs": [
        {
          "output_type": "execute_result",
          "data": {
            "text/plain": [
              "tensor([[0.1392, 0.1119],\n",
              "        [0.4498, 0.3314]])"
            ]
          },
          "metadata": {},
          "execution_count": 9
        }
      ]
    },
    {
      "cell_type": "code",
      "source": [
        "a*b"
      ],
      "metadata": {
        "colab": {
          "base_uri": "https://localhost:8080/"
        },
        "id": "UXa40uDZWodf",
        "outputId": "c8780ab8-ca36-4e1a-a19a-79852f90a82e"
      },
      "execution_count": 10,
      "outputs": [
        {
          "output_type": "execute_result",
          "data": {
            "text/plain": [
              "tensor([[0.0792, 0.0858],\n",
              "        [0.1379, 0.1345]])"
            ]
          },
          "metadata": {},
          "execution_count": 10
        }
      ]
    },
    {
      "cell_type": "code",
      "source": [
        "a"
      ],
      "metadata": {
        "colab": {
          "base_uri": "https://localhost:8080/"
        },
        "id": "aTEaQ24ZWtKH",
        "outputId": "483fc1b7-d475-4737-c248-203b8103d659"
      },
      "execution_count": 11,
      "outputs": [
        {
          "output_type": "execute_result",
          "data": {
            "text/plain": [
              "tensor([[0.2140, 0.2286],\n",
              "        [0.5249, 0.9731]])"
            ]
          },
          "metadata": {},
          "execution_count": 11
        }
      ]
    },
    {
      "cell_type": "code",
      "source": [
        "a"
      ],
      "metadata": {
        "colab": {
          "base_uri": "https://localhost:8080/"
        },
        "id": "_Qw5YckNWucz",
        "outputId": "114caeee-b583-4417-f911-685556ccaafa"
      },
      "execution_count": 12,
      "outputs": [
        {
          "output_type": "execute_result",
          "data": {
            "text/plain": [
              "tensor([[0.2140, 0.2286],\n",
              "        [0.5249, 0.9731]])"
            ]
          },
          "metadata": {},
          "execution_count": 12
        }
      ]
    },
    {
      "cell_type": "markdown",
      "source": [
        "Construct a randomly initialized matrix and operation using NumPy"
      ],
      "metadata": {
        "id": "-aJtdNhXW-Ba"
      }
    },
    {
      "cell_type": "code",
      "source": [
        "a = np.random.rand(2,2)\n",
        "b = np.random.rand(2,2)"
      ],
      "metadata": {
        "id": "gOYvd1V2XDOq"
      },
      "execution_count": 13,
      "outputs": []
    },
    {
      "cell_type": "code",
      "source": [
        "np.dot(a,b)\n",
        "# normal matrix multiplication\n",
        "# Where the condition of number of columns of first array should be equal to number of rows of second array is checked.\n",
        "# then only numpy.dot() function take place else it throws an error."
      ],
      "metadata": {
        "colab": {
          "base_uri": "https://localhost:8080/"
        },
        "id": "xgB04qGZXMdO",
        "outputId": "e9d4e02d-9282-423a-e6fa-5b7069151ee5"
      },
      "execution_count": 14,
      "outputs": [
        {
          "output_type": "execute_result",
          "data": {
            "text/plain": [
              "array([[0.27939508, 0.20752195],\n",
              "       [0.20936753, 0.08103336]])"
            ]
          },
          "metadata": {},
          "execution_count": 14
        }
      ]
    },
    {
      "cell_type": "code",
      "source": [
        "np.multiply(a,b)\n",
        "# '*' \n",
        "# element wise multiplication"
      ],
      "metadata": {
        "colab": {
          "base_uri": "https://localhost:8080/"
        },
        "id": "dz-PcCqhXOvr",
        "outputId": "592d4456-3fb6-4c5a-e102-cdc8ec9ef3fc"
      },
      "execution_count": 15,
      "outputs": [
        {
          "output_type": "execute_result",
          "data": {
            "text/plain": [
              "array([[0.22616308, 0.02332422],\n",
              "       [0.17001386, 0.00653982]])"
            ]
          },
          "metadata": {},
          "execution_count": 15
        }
      ]
    },
    {
      "cell_type": "markdown",
      "source": [
        "### Construct a 5x3 matrix uninitialized:"
      ],
      "metadata": {
        "id": "ne59XlYYVY4h"
      }
    },
    {
      "cell_type": "code",
      "source": [
        "x = torch.empty(5,3)"
      ],
      "metadata": {
        "id": "iwqtAY3pVUep"
      },
      "execution_count": 16,
      "outputs": []
    },
    {
      "cell_type": "code",
      "source": [
        "x"
      ],
      "metadata": {
        "colab": {
          "base_uri": "https://localhost:8080/"
        },
        "id": "V-JmSdO7ViDD",
        "outputId": "54efb30b-b8f5-421b-a2b3-717c8ec7ca5c"
      },
      "execution_count": 17,
      "outputs": [
        {
          "output_type": "execute_result",
          "data": {
            "text/plain": [
              "tensor([[4.3621e-35, 0.0000e+00, 3.3631e-44],\n",
              "        [0.0000e+00,        nan, 0.0000e+00],\n",
              "        [1.1578e+27, 1.1362e+30, 7.1547e+22],\n",
              "        [4.5828e+30, 1.2121e+04, 7.1846e+22],\n",
              "        [9.2198e-39, 7.0374e+22, 0.0000e+00]])"
            ]
          },
          "metadata": {},
          "execution_count": 17
        }
      ]
    },
    {
      "cell_type": "markdown",
      "source": [
        "### Construct a matrix filled zeros and of dtypes long:"
      ],
      "metadata": {
        "id": "9ztx9sREVuLU"
      }
    },
    {
      "cell_type": "code",
      "source": [
        "y = torch.zeros((2,2))\n",
        "y"
      ],
      "metadata": {
        "colab": {
          "base_uri": "https://localhost:8080/"
        },
        "id": "_m6ixbA7V28R",
        "outputId": "2e15054f-ea0c-48ed-d01d-65c78457c9fb"
      },
      "execution_count": 18,
      "outputs": [
        {
          "output_type": "execute_result",
          "data": {
            "text/plain": [
              "tensor([[0., 0.],\n",
              "        [0., 0.]])"
            ]
          },
          "metadata": {},
          "execution_count": 18
        }
      ]
    },
    {
      "cell_type": "code",
      "source": [
        "y_num = np.zeros((2,2))\n",
        "y_num"
      ],
      "metadata": {
        "colab": {
          "base_uri": "https://localhost:8080/"
        },
        "id": "vismKOz9V-mY",
        "outputId": "2cd29dce-d38d-4303-f02c-e607c14a078d"
      },
      "execution_count": 19,
      "outputs": [
        {
          "output_type": "execute_result",
          "data": {
            "text/plain": [
              "array([[0., 0.],\n",
              "       [0., 0.]])"
            ]
          },
          "metadata": {},
          "execution_count": 19
        }
      ]
    },
    {
      "cell_type": "code",
      "source": [
        "x = torch.zeros(5,3,dtype = torch.long)\n",
        "print(x)"
      ],
      "metadata": {
        "colab": {
          "base_uri": "https://localhost:8080/"
        },
        "id": "5pq93_sIWK8x",
        "outputId": "7ab0dda8-ad0e-4a6a-c92e-8f0cc965c8ef"
      },
      "execution_count": 20,
      "outputs": [
        {
          "output_type": "stream",
          "name": "stdout",
          "text": [
            "tensor([[0, 0, 0],\n",
            "        [0, 0, 0],\n",
            "        [0, 0, 0],\n",
            "        [0, 0, 0],\n",
            "        [0, 0, 0]])\n"
          ]
        }
      ]
    },
    {
      "cell_type": "markdown",
      "source": [
        "### Construct a matrix of ones"
      ],
      "metadata": {
        "id": "56O4t7HxWao9"
      }
    },
    {
      "cell_type": "code",
      "source": [
        "o = torch.ones(2,2)"
      ],
      "metadata": {
        "id": "w7dzkpZtWYux"
      },
      "execution_count": 21,
      "outputs": []
    },
    {
      "cell_type": "code",
      "source": [
        "o"
      ],
      "metadata": {
        "colab": {
          "base_uri": "https://localhost:8080/"
        },
        "id": "zsIJIsRTWks5",
        "outputId": "86f25ea1-3fa7-49ec-e0c4-279255fc9ab3"
      },
      "execution_count": 22,
      "outputs": [
        {
          "output_type": "execute_result",
          "data": {
            "text/plain": [
              "tensor([[1., 1.],\n",
              "        [1., 1.]])"
            ]
          },
          "metadata": {},
          "execution_count": 22
        }
      ]
    },
    {
      "cell_type": "code",
      "source": [
        "o_num = np.ones((2,2))\n",
        "o_num"
      ],
      "metadata": {
        "colab": {
          "base_uri": "https://localhost:8080/"
        },
        "id": "GHlMk33oW_Gj",
        "outputId": "4895b5b8-3cbd-4ca6-c079-04d6982a02c8"
      },
      "execution_count": 23,
      "outputs": [
        {
          "output_type": "execute_result",
          "data": {
            "text/plain": [
              "array([[1., 1.],\n",
              "       [1., 1.]])"
            ]
          },
          "metadata": {},
          "execution_count": 23
        }
      ]
    },
    {
      "cell_type": "markdown",
      "source": [
        "### Construst identity matrix"
      ],
      "metadata": {
        "id": "drKpVi1PXRjk"
      }
    },
    {
      "cell_type": "code",
      "source": [
        "c_num = np.identity(5)\n",
        "c_num"
      ],
      "metadata": {
        "colab": {
          "base_uri": "https://localhost:8080/"
        },
        "id": "LjK2Sx3dXVni",
        "outputId": "5e7773b1-f81f-4695-944b-0766bbc79b19"
      },
      "execution_count": 24,
      "outputs": [
        {
          "output_type": "execute_result",
          "data": {
            "text/plain": [
              "array([[1., 0., 0., 0., 0.],\n",
              "       [0., 1., 0., 0., 0.],\n",
              "       [0., 0., 1., 0., 0.],\n",
              "       [0., 0., 0., 1., 0.],\n",
              "       [0., 0., 0., 0., 1.]])"
            ]
          },
          "metadata": {},
          "execution_count": 24
        }
      ]
    },
    {
      "cell_type": "code",
      "source": [
        "c = torch.eye(2)\n",
        "c"
      ],
      "metadata": {
        "colab": {
          "base_uri": "https://localhost:8080/"
        },
        "id": "H47fCSiaXlto",
        "outputId": "58accb02-2858-4555-9b4d-95bf241c2535"
      },
      "execution_count": 25,
      "outputs": [
        {
          "output_type": "execute_result",
          "data": {
            "text/plain": [
              "tensor([[1., 0.],\n",
              "        [0., 1.]])"
            ]
          },
          "metadata": {},
          "execution_count": 25
        }
      ]
    },
    {
      "cell_type": "markdown",
      "source": [
        "## Converting NumPy array to torch tensor see how changing the np array changed the Torch Tensor automatically"
      ],
      "metadata": {
        "id": "5B3ze4PlXp1v"
      }
    },
    {
      "cell_type": "code",
      "source": [
        "d = torch.from_numpy(c_num)"
      ],
      "metadata": {
        "id": "pD1FkSb_X36u"
      },
      "execution_count": 26,
      "outputs": []
    },
    {
      "cell_type": "code",
      "source": [
        "d"
      ],
      "metadata": {
        "colab": {
          "base_uri": "https://localhost:8080/"
        },
        "id": "hDnDejuMYEiH",
        "outputId": "056a9b98-5ffa-4f12-cace-ea27537f18fc"
      },
      "execution_count": 27,
      "outputs": [
        {
          "output_type": "execute_result",
          "data": {
            "text/plain": [
              "tensor([[1., 0., 0., 0., 0.],\n",
              "        [0., 1., 0., 0., 0.],\n",
              "        [0., 0., 1., 0., 0.],\n",
              "        [0., 0., 0., 1., 0.],\n",
              "        [0., 0., 0., 0., 1.]], dtype=torch.float64)"
            ]
          },
          "metadata": {},
          "execution_count": 27
        }
      ]
    },
    {
      "cell_type": "code",
      "source": [
        "d_num = c.numpy()\n",
        "d_num"
      ],
      "metadata": {
        "colab": {
          "base_uri": "https://localhost:8080/"
        },
        "id": "MW5x2cxVYXcq",
        "outputId": "0f89cacd-a3fb-4575-f8e6-f350b98f27b5"
      },
      "execution_count": 28,
      "outputs": [
        {
          "output_type": "execute_result",
          "data": {
            "text/plain": [
              "array([[1., 0.],\n",
              "       [0., 1.]], dtype=float32)"
            ]
          },
          "metadata": {},
          "execution_count": 28
        }
      ]
    },
    {
      "cell_type": "markdown",
      "source": [
        "## create a tensor based on an existing tensor."
      ],
      "metadata": {
        "id": "LDsPoD4lY55c"
      }
    },
    {
      "cell_type": "code",
      "source": [
        "x1 = x.new_ones(5,3, dtype=torch.double)\n",
        "print(x1)\n",
        "\n",
        "x2 = x.new_ones(5,3, dtype=torch.float)\n",
        "print(x2)\n",
        "\n",
        "x3 = torch.randn_like(x, dtype = float)\n",
        "print(x3)"
      ],
      "metadata": {
        "colab": {
          "base_uri": "https://localhost:8080/"
        },
        "id": "zbA0hkZ7Y5db",
        "outputId": "d7b22b05-2c0e-4efe-ee1d-72e1374273b1"
      },
      "execution_count": 29,
      "outputs": [
        {
          "output_type": "stream",
          "name": "stdout",
          "text": [
            "tensor([[1., 1., 1.],\n",
            "        [1., 1., 1.],\n",
            "        [1., 1., 1.],\n",
            "        [1., 1., 1.],\n",
            "        [1., 1., 1.]], dtype=torch.float64)\n",
            "tensor([[1., 1., 1.],\n",
            "        [1., 1., 1.],\n",
            "        [1., 1., 1.],\n",
            "        [1., 1., 1.],\n",
            "        [1., 1., 1.]])\n",
            "tensor([[ 0.2322,  1.0733,  0.9357],\n",
            "        [-0.2983,  0.4342, -0.0062],\n",
            "        [ 0.0503, -1.2984, -1.4845],\n",
            "        [-0.3955, -0.4501,  0.8180],\n",
            "        [-0.5743,  1.3128, -1.1909]], dtype=torch.float64)\n"
          ]
        }
      ]
    },
    {
      "cell_type": "markdown",
      "source": [
        "Size of the array of tensors."
      ],
      "metadata": {
        "id": "PJshBKHEZpz9"
      }
    },
    {
      "cell_type": "code",
      "source": [
        "print(x.size())"
      ],
      "metadata": {
        "colab": {
          "base_uri": "https://localhost:8080/"
        },
        "id": "hrYRZGQnZuo9",
        "outputId": "6d6e087b-e383-4550-8760-b555f325a31e"
      },
      "execution_count": 30,
      "outputs": [
        {
          "output_type": "stream",
          "name": "stdout",
          "text": [
            "torch.Size([5, 3])\n"
          ]
        }
      ]
    },
    {
      "cell_type": "markdown",
      "source": [
        "\"torch size\" is in fact a tuple, so it supports all tuple operations.\n",
        "Operations There are multiple syntaxes for operations. In the following example, we will take a look at the addition operations"
      ],
      "metadata": {
        "id": "CnaToo_Hob2N"
      }
    },
    {
      "cell_type": "code",
      "source": [
        "y = torch.rand(2,2)\n",
        "print(o,\"\\n\",y)\n",
        "print(o+y)"
      ],
      "metadata": {
        "colab": {
          "base_uri": "https://localhost:8080/"
        },
        "id": "-XeR3WxxZxjW",
        "outputId": "a86c2568-0bbc-4de1-c9d6-b24ae36aa995"
      },
      "execution_count": 31,
      "outputs": [
        {
          "output_type": "stream",
          "name": "stdout",
          "text": [
            "tensor([[1., 1.],\n",
            "        [1., 1.]]) \n",
            " tensor([[0.7950, 0.8437],\n",
            "        [0.1418, 0.9808]])\n",
            "tensor([[1.7950, 1.8437],\n",
            "        [1.1418, 1.9808]])\n"
          ]
        }
      ]
    },
    {
      "cell_type": "code",
      "source": [
        "torch.add(o,y)"
      ],
      "metadata": {
        "colab": {
          "base_uri": "https://localhost:8080/"
        },
        "id": "lIHmSY75pWIz",
        "outputId": "3f5563c3-bd59-4796-d47c-7edb0cdc16d4"
      },
      "execution_count": 32,
      "outputs": [
        {
          "output_type": "execute_result",
          "data": {
            "text/plain": [
              "tensor([[1.7950, 1.8437],\n",
              "        [1.1418, 1.9808]])"
            ]
          },
          "metadata": {},
          "execution_count": 32
        }
      ]
    },
    {
      "cell_type": "markdown",
      "source": [
        "using out option to get output as arguement"
      ],
      "metadata": {
        "id": "hTxYngmXp2oH"
      }
    },
    {
      "cell_type": "code",
      "source": [
        "result = torch.empty(2,2)\n",
        "torch.add(o,y,out = result)\n",
        "result"
      ],
      "metadata": {
        "colab": {
          "base_uri": "https://localhost:8080/"
        },
        "id": "FOCIww2dpcP9",
        "outputId": "26df6376-0c19-4bb7-c13a-64ebb3f61b6a"
      },
      "execution_count": 33,
      "outputs": [
        {
          "output_type": "execute_result",
          "data": {
            "text/plain": [
              "tensor([[1.7950, 1.8437],\n",
              "        [1.1418, 1.9808]])"
            ]
          },
          "metadata": {},
          "execution_count": 33
        }
      ]
    },
    {
      "cell_type": "markdown",
      "source": [
        "Adding in place."
      ],
      "metadata": {
        "id": "YMzBSDdCqLXg"
      }
    },
    {
      "cell_type": "code",
      "source": [
        "o.add_(y)"
      ],
      "metadata": {
        "colab": {
          "base_uri": "https://localhost:8080/"
        },
        "id": "lrggP_ORp6Ej",
        "outputId": "11713740-56fa-456f-eef2-a31ae2c81a7d"
      },
      "execution_count": 34,
      "outputs": [
        {
          "output_type": "execute_result",
          "data": {
            "text/plain": [
              "tensor([[1.7950, 1.8437],\n",
              "        [1.1418, 1.9808]])"
            ]
          },
          "metadata": {},
          "execution_count": 34
        }
      ]
    },
    {
      "cell_type": "markdown",
      "source": [
        "Note:\n",
        "Any operation that mutates a tensor in-place is post-fixed with an \"_\". for example: \"x.copy_(y)\" "
      ],
      "metadata": {
        "id": "87L0DjUeqWYg"
      }
    },
    {
      "cell_type": "code",
      "source": [
        "index = torch.rand(5,5)\n",
        "index"
      ],
      "metadata": {
        "colab": {
          "base_uri": "https://localhost:8080/"
        },
        "id": "ctBZtiIUqTca",
        "outputId": "b0edff3f-6b37-4949-b110-4b7c9e825ab9"
      },
      "execution_count": 35,
      "outputs": [
        {
          "output_type": "execute_result",
          "data": {
            "text/plain": [
              "tensor([[0.5211, 0.7685, 0.2972, 0.2351, 0.4892],\n",
              "        [0.2465, 0.2667, 0.8101, 0.1036, 0.0760],\n",
              "        [0.6213, 0.1038, 0.9424, 0.2015, 0.1459],\n",
              "        [0.0174, 0.3780, 0.2274, 0.6305, 0.2709],\n",
              "        [0.1099, 0.1711, 0.5240, 0.0470, 0.8420]])"
            ]
          },
          "metadata": {},
          "execution_count": 35
        }
      ]
    },
    {
      "cell_type": "code",
      "source": [
        "index[:,0]"
      ],
      "metadata": {
        "colab": {
          "base_uri": "https://localhost:8080/"
        },
        "id": "elq3Xnn5rQ79",
        "outputId": "cdc5fb39-016b-45ee-b585-bb4b1551914a"
      },
      "execution_count": 36,
      "outputs": [
        {
          "output_type": "execute_result",
          "data": {
            "text/plain": [
              "tensor([0.5211, 0.2465, 0.6213, 0.0174, 0.1099])"
            ]
          },
          "metadata": {},
          "execution_count": 36
        }
      ]
    },
    {
      "cell_type": "markdown",
      "source": [
        "Resizing: If you want to resize/reshape tensor, you can use torch.view:"
      ],
      "metadata": {
        "id": "D75PlGYw5P2O"
      }
    },
    {
      "cell_type": "code",
      "source": [
        "x2 = torch.randn(4,4)\n",
        "y = x2.view(16)\n",
        "\n",
        "z = x2.view(-1,4)# -1 helps tensor to reshape it in required manner according to\n",
        "# second arguement (4) .\n",
        "print(x2,y,z,sep = \"\\n\")\n",
        "print(x2.size(),y.size(),z.size())"
      ],
      "metadata": {
        "colab": {
          "base_uri": "https://localhost:8080/"
        },
        "id": "EAye8rgA5X6Z",
        "outputId": "c67c413e-60ef-4bb9-e3cc-a7da6f1526cf"
      },
      "execution_count": 37,
      "outputs": [
        {
          "output_type": "stream",
          "name": "stdout",
          "text": [
            "tensor([[-0.3063,  0.4532, -0.6943,  0.6614],\n",
            "        [ 0.1181, -0.4568, -1.0777,  0.0298],\n",
            "        [ 0.2421, -0.9680,  0.2643, -2.0346],\n",
            "        [ 0.5116, -0.1503, -0.6523,  0.3132]])\n",
            "tensor([-0.3063,  0.4532, -0.6943,  0.6614,  0.1181, -0.4568, -1.0777,  0.0298,\n",
            "         0.2421, -0.9680,  0.2643, -2.0346,  0.5116, -0.1503, -0.6523,  0.3132])\n",
            "tensor([[-0.3063,  0.4532, -0.6943,  0.6614],\n",
            "        [ 0.1181, -0.4568, -1.0777,  0.0298],\n",
            "        [ 0.2421, -0.9680,  0.2643, -2.0346],\n",
            "        [ 0.5116, -0.1503, -0.6523,  0.3132]])\n",
            "torch.Size([4, 4]) torch.Size([16]) torch.Size([4, 4])\n"
          ]
        }
      ]
    },
    {
      "cell_type": "markdown",
      "source": [
        "NumPy.random.randn generates samples from the normal distribution (mean 0 and variance 1), while numpy.rand from a uniform distribution (in the range [0,1))."
      ],
      "metadata": {
        "id": "X-keo-SM8OLs"
      }
    },
    {
      "cell_type": "markdown",
      "source": [
        "if you have a one element tensor, use .item() to get the value as a pythong number"
      ],
      "metadata": {
        "id": "iVIzerlEFZAZ"
      }
    },
    {
      "cell_type": "code",
      "source": [
        "x = torch.randn(1)\n",
        "x\n",
        "print(x.item())"
      ],
      "metadata": {
        "colab": {
          "base_uri": "https://localhost:8080/"
        },
        "id": "kFnqvjl78uup",
        "outputId": "c64ecd24-29e6-4300-9e24-ad0560a1e3e0"
      },
      "execution_count": 38,
      "outputs": [
        {
          "output_type": "stream",
          "name": "stdout",
          "text": [
            "0.3138141930103302\n"
          ]
        }
      ]
    },
    {
      "cell_type": "markdown",
      "source": [
        "Read later:\n",
        "There are more than 100 operations including transposing, indexing, slicing, mathematical operations, linear algebra, random numbers, etc., are described\n",
        "https://pytorch.org/docs/stable/index.html"
      ],
      "metadata": {
        "id": "HFQiakqrlEPA"
      }
    },
    {
      "cell_type": "markdown",
      "source": [
        "NumPy Bridge\n",
        "Converting a torch tensor to a numpy array and vice versa its a breeze.\n"
      ],
      "metadata": {
        "id": "qXtqqLbIlbjD"
      }
    },
    {
      "cell_type": "markdown",
      "source": [
        "The torch tensor and Numpy array will share their underlying memory locations.(if the torch tensor is on CPU), and changing one will change the other."
      ],
      "metadata": {
        "id": "v5BArpndluMB"
      }
    },
    {
      "cell_type": "code",
      "source": [
        "a = torch.ones(5)\n",
        "print(a)"
      ],
      "metadata": {
        "colab": {
          "base_uri": "https://localhost:8080/"
        },
        "id": "6B42JfrFlY03",
        "outputId": "1a39c5bb-85cb-4276-917c-2b09e38c0e94"
      },
      "execution_count": 39,
      "outputs": [
        {
          "output_type": "stream",
          "name": "stdout",
          "text": [
            "tensor([1., 1., 1., 1., 1.])\n"
          ]
        }
      ]
    },
    {
      "cell_type": "code",
      "source": [
        "b = a.numpy()\n",
        "b"
      ],
      "metadata": {
        "colab": {
          "base_uri": "https://localhost:8080/"
        },
        "id": "M_83tssEl-KW",
        "outputId": "771831e9-a91e-4e21-be8d-9ff2c170683f"
      },
      "execution_count": 40,
      "outputs": [
        {
          "output_type": "execute_result",
          "data": {
            "text/plain": [
              "array([1., 1., 1., 1., 1.], dtype=float32)"
            ]
          },
          "metadata": {},
          "execution_count": 40
        }
      ]
    },
    {
      "cell_type": "markdown",
      "source": [
        "See how the numpy array changed in value."
      ],
      "metadata": {
        "id": "U_K9hNBimLMR"
      }
    },
    {
      "cell_type": "code",
      "source": [
        "a.add_(1)\n",
        "print(a,b)"
      ],
      "metadata": {
        "colab": {
          "base_uri": "https://localhost:8080/"
        },
        "id": "yAXs_hoemKIP",
        "outputId": "c3040f8b-6cf4-4c9f-ace8-aa57adc3b7fd"
      },
      "execution_count": 41,
      "outputs": [
        {
          "output_type": "stream",
          "name": "stdout",
          "text": [
            "tensor([2., 2., 2., 2., 2.]) [2. 2. 2. 2. 2.]\n"
          ]
        }
      ]
    },
    {
      "cell_type": "code",
      "source": [
        "a = np.ones(5)\n",
        "b = torch.from_numpy(a)\n",
        "np.add(a,1.4,out = a)"
      ],
      "metadata": {
        "colab": {
          "base_uri": "https://localhost:8080/"
        },
        "id": "O3GbwxXDmYSL",
        "outputId": "03fcb092-9882-4dd2-8dc4-1cd5047f441c"
      },
      "execution_count": 42,
      "outputs": [
        {
          "output_type": "execute_result",
          "data": {
            "text/plain": [
              "array([2.4, 2.4, 2.4, 2.4, 2.4])"
            ]
          },
          "metadata": {},
          "execution_count": 42
        }
      ]
    },
    {
      "cell_type": "markdown",
      "source": [
        "## CUDA Tensors"
      ],
      "metadata": {
        "id": "invaRliD-XOR"
      }
    },
    {
      "cell_type": "code",
      "source": [
        "#let us run this cell only if cuda is available\n",
        "# we will use ``torch.device`` objects to move tensors in and out of GPU\n",
        "if torch.cuda.is_available():\n",
        "  device = torch.device(\"cuda\")\n",
        "  y = torch.ones_like(x,device = device)\n",
        "  x = x.to(device)\n",
        "  print(z)\n",
        "  print(z.to(\"cpu\", torch.double))"
      ],
      "metadata": {
        "id": "XvkpoGAQ-baN"
      },
      "execution_count": 43,
      "outputs": []
    },
    {
      "cell_type": "markdown",
      "source": [
        "Forward Propogation"
      ],
      "metadata": {
        "id": "20rmSG8F_cdL"
      }
    },
    {
      "cell_type": "code",
      "source": [
        "a = torch.Tensor([2])\n",
        "b = torch.Tensor([-4])\n",
        "c = torch.Tensor([-2])\n",
        "d = torch.Tensor([2])\n",
        "\n",
        "e = a+b\n",
        "f = c*d\n",
        "\n",
        "g = e*f\n",
        "print(e,f,g)"
      ],
      "metadata": {
        "colab": {
          "base_uri": "https://localhost:8080/"
        },
        "id": "65hsmLif_gat",
        "outputId": "4808b257-f83e-4ab6-ef81-fa71754932b2"
      },
      "execution_count": 44,
      "outputs": [
        {
          "output_type": "stream",
          "name": "stdout",
          "text": [
            "tensor([-2.]) tensor([-4.]) tensor([8.])\n"
          ]
        }
      ]
    },
    {
      "cell_type": "code",
      "source": [
        "x = torch.tensor(-3., requires_grad=True)\n",
        "y = torch.tensor(5., requires_grad=True)\n",
        "z = torch.tensor(-1., requires_grad=True)\n",
        "\n",
        "q = x + y\n",
        "f = q * z\n",
        "f.backward()\n",
        "print(\"Gradient of z,y,x are:\"+str(z.grad)+str(y.grad)+str(x.grad))"
      ],
      "metadata": {
        "colab": {
          "base_uri": "https://localhost:8080/"
        },
        "id": "jGFQGmI2_cCp",
        "outputId": "e58ad588-f359-4732-b746-78a455d845b6"
      },
      "execution_count": 45,
      "outputs": [
        {
          "output_type": "stream",
          "name": "stdout",
          "text": [
            "Gradient of z,y,x are:tensor(2.)tensor(-1.)tensor(-1.)\n"
          ]
        }
      ]
    },
    {
      "cell_type": "markdown",
      "source": [
        "Fully Connected neural networks."
      ],
      "metadata": {
        "id": "tHH4BDHsN70W"
      }
    },
    {
      "cell_type": "code",
      "source": [
        "import torch\n",
        "input_layer = torch.rand(10)# declaration of inputs\n",
        "w1 = torch.rand(10,20)\n",
        "w2 = torch.rand(20,20)\n",
        "w3 = torch.rand(20,4)\n",
        "\n",
        "h1 = torch.matmul(input_layer,w1)# first hidden layer.\n",
        "h2 = torch.matmul(h1,w2)# subsequent hidden layer.\n",
        "output_layer = torch.matmul(h2,w3)\n",
        "\n",
        "print(h1,h2,output_layer,sep = \"\\n\")"
      ],
      "metadata": {
        "colab": {
          "base_uri": "https://localhost:8080/"
        },
        "id": "APiVkj0EN_CM",
        "outputId": "73f5b461-efbb-4032-ea92-996b7b8a97e1"
      },
      "execution_count": 46,
      "outputs": [
        {
          "output_type": "stream",
          "name": "stdout",
          "text": [
            "tensor([2.5902, 3.0183, 2.3186, 3.6760, 1.8882, 2.8214, 2.0038, 2.2991, 2.9564,\n",
            "        2.9741, 2.9577, 2.8181, 1.9456, 3.3594, 3.1224, 3.4665, 2.3557, 2.6885,\n",
            "        2.9748, 3.1396])\n",
            "tensor([29.0561, 31.7675, 25.4499, 23.4698, 27.9361, 23.1501, 23.4729, 30.1408,\n",
            "        21.9294, 27.8077, 20.6162, 27.0431, 31.1167, 30.8306, 25.6574, 22.3077,\n",
            "        23.1437, 24.2214, 27.3733, 24.6787])\n",
            "tensor([216.6026, 268.8469, 234.9943, 318.9852])\n"
          ]
        }
      ]
    },
    {
      "cell_type": "markdown",
      "source": [
        "Building a neural network - Pytorch style"
      ],
      "metadata": {
        "id": "qSlopeNFO7X8"
      }
    },
    {
      "cell_type": "code",
      "source": [
        "import torch.nn as nn\n",
        "class Net(nn.Module):\n",
        "  def __init__(self):\n",
        "    super(Net, self).__init__()\n",
        "    self.fc1 = nn.Linear(10,20)\n",
        "    self.fc2 = nn.Linear(20,20)\n",
        "    self.output = nn.Linear(20,4)\n",
        "\n",
        "\n",
        "  def forward(self,x):\n",
        "    x = self.fc1(x)\n",
        "    x = self.fc2(x)\n",
        "    x = self.output(x)\n",
        "    return x\n",
        "\n",
        "\n",
        "input_layer = torch.rand(10)\n",
        "net = Net()\n",
        "result = net(input_layer)"
      ],
      "metadata": {
        "id": "IaPEuU8JO64U"
      },
      "execution_count": 47,
      "outputs": []
    },
    {
      "cell_type": "code",
      "source": [
        "result"
      ],
      "metadata": {
        "colab": {
          "base_uri": "https://localhost:8080/"
        },
        "id": "aHEz_qsxQAN-",
        "outputId": "2a45a173-0bff-4927-b95e-e5b282e5bdca"
      },
      "execution_count": 48,
      "outputs": [
        {
          "output_type": "execute_result",
          "data": {
            "text/plain": [
              "tensor([ 0.1937, -0.2156, -0.0699, -0.0441], grad_fn=<AddBackward0>)"
            ]
          },
          "metadata": {},
          "execution_count": 48
        }
      ]
    },
    {
      "cell_type": "code",
      "source": [],
      "metadata": {
        "id": "w2gI5XDi1Sj5"
      },
      "execution_count": 48,
      "outputs": []
    }
  ]
}