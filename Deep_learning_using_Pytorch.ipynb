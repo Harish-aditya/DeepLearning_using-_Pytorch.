{
  "nbformat": 4,
  "nbformat_minor": 0,
  "metadata": {
    "colab": {
      "provenance": [],
      "collapsed_sections": [],
      "authorship_tag": "ABX9TyOLWtimWUwWFOUBU7XInS2G",
      "include_colab_link": true
    },
    "kernelspec": {
      "name": "python3",
      "display_name": "Python 3"
    },
    "language_info": {
      "name": "python"
    }
  },
  "cells": [
    {
      "cell_type": "markdown",
      "metadata": {
        "id": "view-in-github",
        "colab_type": "text"
      },
      "source": [
        "<a href=\"https://colab.research.google.com/github/Harish-aditya/DeepLearning_using-_Pytorch./blob/main/Deep_learning_using_Pytorch.ipynb\" target=\"_parent\"><img src=\"https://colab.research.google.com/assets/colab-badge.svg\" alt=\"Open In Colab\"/></a>"
      ]
    },
    {
      "cell_type": "markdown",
      "source": [
        "Import Functions."
      ],
      "metadata": {
        "id": "B2QsMrNdDNT9"
      }
    },
    {
      "cell_type": "code",
      "execution_count": 1,
      "metadata": {
        "id": "SzaAkfEm5dzk"
      },
      "outputs": [],
      "source": [
        "from __future__ import print_function\n",
        "import torch"
      ]
    },
    {
      "cell_type": "markdown",
      "source": [
        "Pytorch compared to NumPy\n",
        "Matrix formation using Pytorch"
      ],
      "metadata": {
        "id": "-9iQm2WvHSaj"
      }
    },
    {
      "cell_type": "code",
      "source": [
        "torch.tensor([[2,3,5],[1,2,9]])"
      ],
      "metadata": {
        "colab": {
          "base_uri": "https://localhost:8080/"
        },
        "id": "inTTsJM-G0I5",
        "outputId": "2ffeaac9-7e7c-4285-e385-e7d9a7de909e"
      },
      "execution_count": 2,
      "outputs": [
        {
          "output_type": "execute_result",
          "data": {
            "text/plain": [
              "tensor([[2, 3, 5],\n",
              "        [1, 2, 9]])"
            ]
          },
          "metadata": {},
          "execution_count": 2
        }
      ]
    },
    {
      "cell_type": "code",
      "source": [
        "torch.rand(2,2)"
      ],
      "metadata": {
        "colab": {
          "base_uri": "https://localhost:8080/"
        },
        "id": "C2YxlxSYKdYF",
        "outputId": "0e1b86af-cebf-4150-c98f-75173d2ea265"
      },
      "execution_count": 3,
      "outputs": [
        {
          "output_type": "execute_result",
          "data": {
            "text/plain": [
              "tensor([[0.4204, 0.4850],\n",
              "        [0.1824, 0.7021]])"
            ]
          },
          "metadata": {},
          "execution_count": 3
        }
      ]
    },
    {
      "cell_type": "code",
      "source": [
        "a = torch.rand((3,5))\n",
        "a"
      ],
      "metadata": {
        "colab": {
          "base_uri": "https://localhost:8080/"
        },
        "id": "s5C1Te0lKiTG",
        "outputId": "5ddaa4db-96cc-497d-cd3f-7f9487449580"
      },
      "execution_count": 4,
      "outputs": [
        {
          "output_type": "execute_result",
          "data": {
            "text/plain": [
              "tensor([[0.6165, 0.2164, 0.2052, 0.6344, 0.7383],\n",
              "        [0.5300, 0.1969, 0.4243, 0.5493, 0.1936],\n",
              "        [0.1693, 0.3276, 0.6333, 0.2224, 0.8085]])"
            ]
          },
          "metadata": {},
          "execution_count": 4
        }
      ]
    },
    {
      "cell_type": "code",
      "source": [
        "a.shape"
      ],
      "metadata": {
        "colab": {
          "base_uri": "https://localhost:8080/"
        },
        "id": "9hmmMdR5Kniu",
        "outputId": "12175c4f-c319-435e-c585-c36ed962d5a5"
      },
      "execution_count": 5,
      "outputs": [
        {
          "output_type": "execute_result",
          "data": {
            "text/plain": [
              "torch.Size([3, 5])"
            ]
          },
          "metadata": {},
          "execution_count": 5
        }
      ]
    },
    {
      "cell_type": "markdown",
      "source": [
        "Matrix formation using numpy"
      ],
      "metadata": {
        "id": "nXRAT6RZLIMa"
      }
    },
    {
      "cell_type": "code",
      "source": [
        "import numpy as np\n",
        "np.array([[2,3,4],[1,2,3]])"
      ],
      "metadata": {
        "colab": {
          "base_uri": "https://localhost:8080/"
        },
        "id": "oD6EVcE3LFuf",
        "outputId": "2ef80e7d-c1f0-4a12-e31f-51953d49e6dc"
      },
      "execution_count": 6,
      "outputs": [
        {
          "output_type": "execute_result",
          "data": {
            "text/plain": [
              "array([[2, 3, 4],\n",
              "       [1, 2, 3]])"
            ]
          },
          "metadata": {},
          "execution_count": 6
        }
      ]
    },
    {
      "cell_type": "code",
      "source": [
        "np.random.rand(2,2)"
      ],
      "metadata": {
        "colab": {
          "base_uri": "https://localhost:8080/"
        },
        "id": "lHbScLckVZaI",
        "outputId": "4b820531-e78b-44b0-dfaf-722e5cc76550"
      },
      "execution_count": 7,
      "outputs": [
        {
          "output_type": "execute_result",
          "data": {
            "text/plain": [
              "array([[0.84380047, 0.69535017],\n",
              "       [0.79233397, 0.33940478]])"
            ]
          },
          "metadata": {},
          "execution_count": 7
        }
      ]
    },
    {
      "cell_type": "markdown",
      "source": [
        "# Construct a randomly initialized matrix and operation using Pytorch"
      ],
      "metadata": {
        "id": "dkj1JzVrVtDc"
      }
    },
    {
      "cell_type": "code",
      "source": [
        "a = torch.rand((2,2))\n",
        "b = torch.rand((2,2))"
      ],
      "metadata": {
        "id": "FgxgTTrVVdew"
      },
      "execution_count": 8,
      "outputs": []
    },
    {
      "cell_type": "code",
      "source": [
        "torch.matmul(a,b)"
      ],
      "metadata": {
        "colab": {
          "base_uri": "https://localhost:8080/"
        },
        "id": "liD93K_pWfWm",
        "outputId": "cf832542-6415-4105-9b67-0d031af55a86"
      },
      "execution_count": 9,
      "outputs": [
        {
          "output_type": "execute_result",
          "data": {
            "text/plain": [
              "tensor([[1.0011, 0.8247],\n",
              "        [0.8544, 0.9037]])"
            ]
          },
          "metadata": {},
          "execution_count": 9
        }
      ]
    },
    {
      "cell_type": "code",
      "source": [
        "a*b"
      ],
      "metadata": {
        "colab": {
          "base_uri": "https://localhost:8080/"
        },
        "id": "UXa40uDZWodf",
        "outputId": "d1d1bf97-8323-4bea-970e-564de5a92466"
      },
      "execution_count": 10,
      "outputs": [
        {
          "output_type": "execute_result",
          "data": {
            "text/plain": [
              "tensor([[0.3055, 0.8007],\n",
              "        [0.6793, 0.1217]])"
            ]
          },
          "metadata": {},
          "execution_count": 10
        }
      ]
    },
    {
      "cell_type": "code",
      "source": [
        "a"
      ],
      "metadata": {
        "colab": {
          "base_uri": "https://localhost:8080/"
        },
        "id": "aTEaQ24ZWtKH",
        "outputId": "c6ca23ca-1e43-4e8f-ae89-d25f733318fd"
      },
      "execution_count": 11,
      "outputs": [
        {
          "output_type": "execute_result",
          "data": {
            "text/plain": [
              "tensor([[0.6954, 0.8554],\n",
              "        [0.8354, 0.5994]])"
            ]
          },
          "metadata": {},
          "execution_count": 11
        }
      ]
    },
    {
      "cell_type": "code",
      "source": [
        "a"
      ],
      "metadata": {
        "colab": {
          "base_uri": "https://localhost:8080/"
        },
        "id": "_Qw5YckNWucz",
        "outputId": "ddc633e5-3326-4656-96b2-06c16613a4bf"
      },
      "execution_count": 12,
      "outputs": [
        {
          "output_type": "execute_result",
          "data": {
            "text/plain": [
              "tensor([[0.6954, 0.8554],\n",
              "        [0.8354, 0.5994]])"
            ]
          },
          "metadata": {},
          "execution_count": 12
        }
      ]
    },
    {
      "cell_type": "markdown",
      "source": [
        "Construct a randomly initialized matrix and operation using NumPy"
      ],
      "metadata": {
        "id": "-aJtdNhXW-Ba"
      }
    },
    {
      "cell_type": "code",
      "source": [
        "a = np.random.rand(2,2)\n",
        "b = np.random.rand(2,2)"
      ],
      "metadata": {
        "id": "gOYvd1V2XDOq"
      },
      "execution_count": 13,
      "outputs": []
    },
    {
      "cell_type": "code",
      "source": [
        "np.dot(a,b)\n",
        "# normal matrix multiplication\n",
        "# Where the condition of number of columns of first array should be equal to number of rows of second array is checked.\n",
        "# then only numpy.dot() function take place else it throws an error."
      ],
      "metadata": {
        "colab": {
          "base_uri": "https://localhost:8080/"
        },
        "id": "xgB04qGZXMdO",
        "outputId": "d1258ae5-f61a-4c5c-bc09-d7e94d252f82"
      },
      "execution_count": 14,
      "outputs": [
        {
          "output_type": "execute_result",
          "data": {
            "text/plain": [
              "array([[0.29780289, 0.18038665],\n",
              "       [0.18215066, 0.12172014]])"
            ]
          },
          "metadata": {},
          "execution_count": 14
        }
      ]
    },
    {
      "cell_type": "code",
      "source": [
        "np.multiply(a,b)\n",
        "# '*' \n",
        "# element wise multiplication"
      ],
      "metadata": {
        "colab": {
          "base_uri": "https://localhost:8080/"
        },
        "id": "dz-PcCqhXOvr",
        "outputId": "931fd907-e669-4719-ff57-672448a7c358"
      },
      "execution_count": 15,
      "outputs": [
        {
          "output_type": "execute_result",
          "data": {
            "text/plain": [
              "array([[0.05387924, 0.02851333],\n",
              "       [0.01674845, 0.11976234]])"
            ]
          },
          "metadata": {},
          "execution_count": 15
        }
      ]
    },
    {
      "cell_type": "markdown",
      "source": [
        "### Construct a 5x3 matrix uninitialized:"
      ],
      "metadata": {
        "id": "ne59XlYYVY4h"
      }
    },
    {
      "cell_type": "code",
      "source": [
        "x = torch.empty(5,3)"
      ],
      "metadata": {
        "id": "iwqtAY3pVUep"
      },
      "execution_count": 16,
      "outputs": []
    },
    {
      "cell_type": "code",
      "source": [
        "x"
      ],
      "metadata": {
        "colab": {
          "base_uri": "https://localhost:8080/"
        },
        "id": "V-JmSdO7ViDD",
        "outputId": "93bc5135-9fb1-4780-d38b-54ede63ecb10"
      },
      "execution_count": 17,
      "outputs": [
        {
          "output_type": "execute_result",
          "data": {
            "text/plain": [
              "tensor([[1.1985e-34, 0.0000e+00, 3.3631e-44],\n",
              "        [0.0000e+00,        nan, 0.0000e+00],\n",
              "        [1.1578e+27, 1.1362e+30, 7.1547e+22],\n",
              "        [4.5828e+30, 1.2121e+04, 7.1846e+22],\n",
              "        [9.2198e-39, 7.0374e+22, 0.0000e+00]])"
            ]
          },
          "metadata": {},
          "execution_count": 17
        }
      ]
    },
    {
      "cell_type": "markdown",
      "source": [
        "### Construct a matrix filled zeros and of dtypes long:"
      ],
      "metadata": {
        "id": "9ztx9sREVuLU"
      }
    },
    {
      "cell_type": "code",
      "source": [
        "y = torch.zeros((2,2))\n",
        "y"
      ],
      "metadata": {
        "colab": {
          "base_uri": "https://localhost:8080/"
        },
        "id": "_m6ixbA7V28R",
        "outputId": "30d541d7-6053-4114-99e6-bd2504f33447"
      },
      "execution_count": 18,
      "outputs": [
        {
          "output_type": "execute_result",
          "data": {
            "text/plain": [
              "tensor([[0., 0.],\n",
              "        [0., 0.]])"
            ]
          },
          "metadata": {},
          "execution_count": 18
        }
      ]
    },
    {
      "cell_type": "code",
      "source": [
        "y_num = np.zeros((2,2))\n",
        "y_num"
      ],
      "metadata": {
        "colab": {
          "base_uri": "https://localhost:8080/"
        },
        "id": "vismKOz9V-mY",
        "outputId": "db611b26-59f4-494b-9ef4-080283d624d9"
      },
      "execution_count": 19,
      "outputs": [
        {
          "output_type": "execute_result",
          "data": {
            "text/plain": [
              "array([[0., 0.],\n",
              "       [0., 0.]])"
            ]
          },
          "metadata": {},
          "execution_count": 19
        }
      ]
    },
    {
      "cell_type": "code",
      "source": [
        "x = torch.zeros(5,3,dtype = torch.long)\n",
        "print(x)"
      ],
      "metadata": {
        "colab": {
          "base_uri": "https://localhost:8080/"
        },
        "id": "5pq93_sIWK8x",
        "outputId": "69f13316-5873-4471-ad06-2c58197e9cda"
      },
      "execution_count": 20,
      "outputs": [
        {
          "output_type": "stream",
          "name": "stdout",
          "text": [
            "tensor([[0, 0, 0],\n",
            "        [0, 0, 0],\n",
            "        [0, 0, 0],\n",
            "        [0, 0, 0],\n",
            "        [0, 0, 0]])\n"
          ]
        }
      ]
    },
    {
      "cell_type": "markdown",
      "source": [
        "### Construct a matrix of ones"
      ],
      "metadata": {
        "id": "56O4t7HxWao9"
      }
    },
    {
      "cell_type": "code",
      "source": [
        "o = torch.ones(2,2)"
      ],
      "metadata": {
        "id": "w7dzkpZtWYux"
      },
      "execution_count": 21,
      "outputs": []
    },
    {
      "cell_type": "code",
      "source": [
        "o"
      ],
      "metadata": {
        "colab": {
          "base_uri": "https://localhost:8080/"
        },
        "id": "zsIJIsRTWks5",
        "outputId": "02bc59c1-a83f-4764-91f7-02c59e53bddd"
      },
      "execution_count": 22,
      "outputs": [
        {
          "output_type": "execute_result",
          "data": {
            "text/plain": [
              "tensor([[1., 1.],\n",
              "        [1., 1.]])"
            ]
          },
          "metadata": {},
          "execution_count": 22
        }
      ]
    },
    {
      "cell_type": "code",
      "source": [
        "o_num = np.ones((2,2))\n",
        "o_num"
      ],
      "metadata": {
        "colab": {
          "base_uri": "https://localhost:8080/"
        },
        "id": "GHlMk33oW_Gj",
        "outputId": "9f1e8d60-023f-4140-a571-b12248449135"
      },
      "execution_count": 23,
      "outputs": [
        {
          "output_type": "execute_result",
          "data": {
            "text/plain": [
              "array([[1., 1.],\n",
              "       [1., 1.]])"
            ]
          },
          "metadata": {},
          "execution_count": 23
        }
      ]
    },
    {
      "cell_type": "markdown",
      "source": [
        "### Construst identity matrix"
      ],
      "metadata": {
        "id": "drKpVi1PXRjk"
      }
    },
    {
      "cell_type": "code",
      "source": [
        "c_num = np.identity(5)\n",
        "c_num"
      ],
      "metadata": {
        "colab": {
          "base_uri": "https://localhost:8080/"
        },
        "id": "LjK2Sx3dXVni",
        "outputId": "f792de9c-54cc-4b49-e64f-9901d9abdf53"
      },
      "execution_count": 24,
      "outputs": [
        {
          "output_type": "execute_result",
          "data": {
            "text/plain": [
              "array([[1., 0., 0., 0., 0.],\n",
              "       [0., 1., 0., 0., 0.],\n",
              "       [0., 0., 1., 0., 0.],\n",
              "       [0., 0., 0., 1., 0.],\n",
              "       [0., 0., 0., 0., 1.]])"
            ]
          },
          "metadata": {},
          "execution_count": 24
        }
      ]
    },
    {
      "cell_type": "code",
      "source": [
        "c = torch.eye(2)\n",
        "c"
      ],
      "metadata": {
        "colab": {
          "base_uri": "https://localhost:8080/"
        },
        "id": "H47fCSiaXlto",
        "outputId": "9b2ec863-0ed6-4eb0-ab46-a283a84440ef"
      },
      "execution_count": 25,
      "outputs": [
        {
          "output_type": "execute_result",
          "data": {
            "text/plain": [
              "tensor([[1., 0.],\n",
              "        [0., 1.]])"
            ]
          },
          "metadata": {},
          "execution_count": 25
        }
      ]
    },
    {
      "cell_type": "markdown",
      "source": [
        "## Converting NumPy array to torch tensor see how changing the np array changed the Torch Tensor automatically"
      ],
      "metadata": {
        "id": "5B3ze4PlXp1v"
      }
    },
    {
      "cell_type": "code",
      "source": [
        "d = torch.from_numpy(c_num)"
      ],
      "metadata": {
        "id": "pD1FkSb_X36u"
      },
      "execution_count": 26,
      "outputs": []
    },
    {
      "cell_type": "code",
      "source": [
        "d"
      ],
      "metadata": {
        "colab": {
          "base_uri": "https://localhost:8080/"
        },
        "id": "hDnDejuMYEiH",
        "outputId": "1ee6785d-7513-4d4d-a0ae-b28013ae7557"
      },
      "execution_count": 27,
      "outputs": [
        {
          "output_type": "execute_result",
          "data": {
            "text/plain": [
              "tensor([[1., 0., 0., 0., 0.],\n",
              "        [0., 1., 0., 0., 0.],\n",
              "        [0., 0., 1., 0., 0.],\n",
              "        [0., 0., 0., 1., 0.],\n",
              "        [0., 0., 0., 0., 1.]], dtype=torch.float64)"
            ]
          },
          "metadata": {},
          "execution_count": 27
        }
      ]
    },
    {
      "cell_type": "code",
      "source": [
        "d_num = c.numpy()\n",
        "d_num"
      ],
      "metadata": {
        "colab": {
          "base_uri": "https://localhost:8080/"
        },
        "id": "MW5x2cxVYXcq",
        "outputId": "685a0cbd-dc69-4bd9-8466-573a4fc68fc6"
      },
      "execution_count": 28,
      "outputs": [
        {
          "output_type": "execute_result",
          "data": {
            "text/plain": [
              "array([[1., 0.],\n",
              "       [0., 1.]], dtype=float32)"
            ]
          },
          "metadata": {},
          "execution_count": 28
        }
      ]
    },
    {
      "cell_type": "markdown",
      "source": [
        "## create a tensor based on an existing tensor."
      ],
      "metadata": {
        "id": "LDsPoD4lY55c"
      }
    },
    {
      "cell_type": "code",
      "source": [
        "x1 = x.new_ones(5,3, dtype=torch.double)\n",
        "print(x1)\n",
        "\n",
        "x2 = x.new_ones(5,3, dtype=torch.float)\n",
        "print(x2)\n",
        "\n",
        "x3 = torch.randn_like(x, dtype = float)\n",
        "print(x3)"
      ],
      "metadata": {
        "colab": {
          "base_uri": "https://localhost:8080/"
        },
        "id": "zbA0hkZ7Y5db",
        "outputId": "a926edee-d60f-44dc-b14e-14dcb076cd17"
      },
      "execution_count": 29,
      "outputs": [
        {
          "output_type": "stream",
          "name": "stdout",
          "text": [
            "tensor([[1., 1., 1.],\n",
            "        [1., 1., 1.],\n",
            "        [1., 1., 1.],\n",
            "        [1., 1., 1.],\n",
            "        [1., 1., 1.]], dtype=torch.float64)\n",
            "tensor([[1., 1., 1.],\n",
            "        [1., 1., 1.],\n",
            "        [1., 1., 1.],\n",
            "        [1., 1., 1.],\n",
            "        [1., 1., 1.]])\n",
            "tensor([[ 0.0289,  0.4783, -0.1529],\n",
            "        [ 2.3885,  1.2762,  0.5646],\n",
            "        [-0.7194,  0.0427,  0.0385],\n",
            "        [ 0.8869,  1.4669,  0.3163],\n",
            "        [ 0.6660,  0.2885,  0.4383]], dtype=torch.float64)\n"
          ]
        }
      ]
    },
    {
      "cell_type": "markdown",
      "source": [
        "Size of the array of tensors."
      ],
      "metadata": {
        "id": "PJshBKHEZpz9"
      }
    },
    {
      "cell_type": "code",
      "source": [
        "print(x.size())"
      ],
      "metadata": {
        "colab": {
          "base_uri": "https://localhost:8080/"
        },
        "id": "hrYRZGQnZuo9",
        "outputId": "80675149-9aa6-426b-f66f-f7874954beb9"
      },
      "execution_count": 30,
      "outputs": [
        {
          "output_type": "stream",
          "name": "stdout",
          "text": [
            "torch.Size([5, 3])\n"
          ]
        }
      ]
    },
    {
      "cell_type": "markdown",
      "source": [
        "\"torch size\" is in fact a tuple, so it supports all tuple operations.\n",
        "Operations There are multiple syntaxes for operations. In the following example, we will take a look at the addition operations"
      ],
      "metadata": {
        "id": "CnaToo_Hob2N"
      }
    },
    {
      "cell_type": "code",
      "source": [
        "y = torch.rand(2,2)\n",
        "print(o,\"\\n\",y)\n",
        "print(o+y)"
      ],
      "metadata": {
        "colab": {
          "base_uri": "https://localhost:8080/"
        },
        "id": "-XeR3WxxZxjW",
        "outputId": "3cd4549b-6e23-4c71-d656-c76a3ea8ecdc"
      },
      "execution_count": 31,
      "outputs": [
        {
          "output_type": "stream",
          "name": "stdout",
          "text": [
            "tensor([[1., 1.],\n",
            "        [1., 1.]]) \n",
            " tensor([[0.2103, 0.0497],\n",
            "        [0.5517, 0.6204]])\n",
            "tensor([[1.2103, 1.0497],\n",
            "        [1.5517, 1.6204]])\n"
          ]
        }
      ]
    },
    {
      "cell_type": "code",
      "source": [
        "torch.add(o,y)"
      ],
      "metadata": {
        "colab": {
          "base_uri": "https://localhost:8080/"
        },
        "id": "lIHmSY75pWIz",
        "outputId": "f5dd6b9d-bd31-4bec-cb08-85bfa9d523dd"
      },
      "execution_count": 32,
      "outputs": [
        {
          "output_type": "execute_result",
          "data": {
            "text/plain": [
              "tensor([[1.2103, 1.0497],\n",
              "        [1.5517, 1.6204]])"
            ]
          },
          "metadata": {},
          "execution_count": 32
        }
      ]
    },
    {
      "cell_type": "markdown",
      "source": [
        "using out option to get output as arguement"
      ],
      "metadata": {
        "id": "hTxYngmXp2oH"
      }
    },
    {
      "cell_type": "code",
      "source": [
        "result = torch.empty(2,2)\n",
        "torch.add(o,y,out = result)\n",
        "result"
      ],
      "metadata": {
        "colab": {
          "base_uri": "https://localhost:8080/"
        },
        "id": "FOCIww2dpcP9",
        "outputId": "b6b5dce1-ac2b-4390-ca1c-e843a72934ba"
      },
      "execution_count": 33,
      "outputs": [
        {
          "output_type": "execute_result",
          "data": {
            "text/plain": [
              "tensor([[1.2103, 1.0497],\n",
              "        [1.5517, 1.6204]])"
            ]
          },
          "metadata": {},
          "execution_count": 33
        }
      ]
    },
    {
      "cell_type": "markdown",
      "source": [
        "Adding in place."
      ],
      "metadata": {
        "id": "YMzBSDdCqLXg"
      }
    },
    {
      "cell_type": "code",
      "source": [
        "o.add_(y)"
      ],
      "metadata": {
        "colab": {
          "base_uri": "https://localhost:8080/"
        },
        "id": "lrggP_ORp6Ej",
        "outputId": "92fc38ab-109e-4659-bdb6-1748366508ea"
      },
      "execution_count": 34,
      "outputs": [
        {
          "output_type": "execute_result",
          "data": {
            "text/plain": [
              "tensor([[1.2103, 1.0497],\n",
              "        [1.5517, 1.6204]])"
            ]
          },
          "metadata": {},
          "execution_count": 34
        }
      ]
    },
    {
      "cell_type": "markdown",
      "source": [
        "Note:\n",
        "Any operation that mutates a tensor in-place is post-fixed with an \"_\". for example: \"x.copy_(y)\" "
      ],
      "metadata": {
        "id": "87L0DjUeqWYg"
      }
    },
    {
      "cell_type": "code",
      "source": [
        "index = torch.rand(5,5)\n",
        "index"
      ],
      "metadata": {
        "colab": {
          "base_uri": "https://localhost:8080/"
        },
        "id": "ctBZtiIUqTca",
        "outputId": "3869d48b-7b13-4987-ebcf-df5861b248be"
      },
      "execution_count": 35,
      "outputs": [
        {
          "output_type": "execute_result",
          "data": {
            "text/plain": [
              "tensor([[0.3275, 0.2180, 0.4198, 0.8128, 0.3298],\n",
              "        [0.5979, 0.8514, 0.2406, 0.4438, 0.0225],\n",
              "        [0.7740, 0.7629, 0.0930, 0.5006, 0.0703],\n",
              "        [0.1283, 0.8757, 0.5668, 0.3961, 0.5167],\n",
              "        [0.9736, 0.7785, 0.6097, 0.7452, 0.2128]])"
            ]
          },
          "metadata": {},
          "execution_count": 35
        }
      ]
    },
    {
      "cell_type": "code",
      "source": [
        "index[:,0]"
      ],
      "metadata": {
        "colab": {
          "base_uri": "https://localhost:8080/"
        },
        "id": "elq3Xnn5rQ79",
        "outputId": "95ee323c-2968-4853-8e95-48d88442a2fe"
      },
      "execution_count": 36,
      "outputs": [
        {
          "output_type": "execute_result",
          "data": {
            "text/plain": [
              "tensor([0.3275, 0.5979, 0.7740, 0.1283, 0.9736])"
            ]
          },
          "metadata": {},
          "execution_count": 36
        }
      ]
    },
    {
      "cell_type": "markdown",
      "source": [
        "Resizing: If you want to resize/reshape tensor, you can use torch.view:"
      ],
      "metadata": {
        "id": "D75PlGYw5P2O"
      }
    },
    {
      "cell_type": "code",
      "source": [
        "x2 = torch.randn(4,4)\n",
        "y = x2.view(16)\n",
        "\n",
        "z = x2.view(-1,4)# -1 helps tensor to reshape it in required manner according to\n",
        "# second arguement (4) .\n",
        "print(x2,y,z,sep = \"\\n\")\n",
        "print(x2.size(),y.size(),z.size())"
      ],
      "metadata": {
        "colab": {
          "base_uri": "https://localhost:8080/"
        },
        "id": "EAye8rgA5X6Z",
        "outputId": "4a37ca82-0b7f-4535-dd2f-abb71866136f"
      },
      "execution_count": 37,
      "outputs": [
        {
          "output_type": "stream",
          "name": "stdout",
          "text": [
            "tensor([[ 1.1725, -0.0039, -0.5651,  0.8715],\n",
            "        [-1.1822, -0.4391,  0.8540, -0.7676],\n",
            "        [-0.3695,  0.6197,  0.1415, -0.4697],\n",
            "        [ 0.3995, -1.0070,  0.0795, -0.3352]])\n",
            "tensor([ 1.1725, -0.0039, -0.5651,  0.8715, -1.1822, -0.4391,  0.8540, -0.7676,\n",
            "        -0.3695,  0.6197,  0.1415, -0.4697,  0.3995, -1.0070,  0.0795, -0.3352])\n",
            "tensor([[ 1.1725, -0.0039, -0.5651,  0.8715],\n",
            "        [-1.1822, -0.4391,  0.8540, -0.7676],\n",
            "        [-0.3695,  0.6197,  0.1415, -0.4697],\n",
            "        [ 0.3995, -1.0070,  0.0795, -0.3352]])\n",
            "torch.Size([4, 4]) torch.Size([16]) torch.Size([4, 4])\n"
          ]
        }
      ]
    },
    {
      "cell_type": "markdown",
      "source": [
        "NumPy.random.randn generates samples from the normal distribution (mean 0 and variance 1), while numpy.rand from a uniform distribution (in the range [0,1))."
      ],
      "metadata": {
        "id": "X-keo-SM8OLs"
      }
    },
    {
      "cell_type": "markdown",
      "source": [
        "if you have a one element tensor, use .item() to get the value as a pythong number"
      ],
      "metadata": {
        "id": "iVIzerlEFZAZ"
      }
    },
    {
      "cell_type": "code",
      "source": [
        "x = torch.randn(1)\n",
        "x\n",
        "print(x.item())"
      ],
      "metadata": {
        "colab": {
          "base_uri": "https://localhost:8080/"
        },
        "id": "kFnqvjl78uup",
        "outputId": "334f425f-5ed6-4709-f295-14842cd59751"
      },
      "execution_count": 38,
      "outputs": [
        {
          "output_type": "stream",
          "name": "stdout",
          "text": [
            "-0.0464746318757534\n"
          ]
        }
      ]
    },
    {
      "cell_type": "markdown",
      "source": [
        "Read later:\n",
        "There are more than 100 operations including transposing, indexing, slicing, mathematical operations, linear algebra, random numbers, etc., are described\n",
        "https://pytorch.org/docs/stable/index.html"
      ],
      "metadata": {
        "id": "HFQiakqrlEPA"
      }
    },
    {
      "cell_type": "markdown",
      "source": [
        "NumPy Bridge\n",
        "Converting a torch tensor to a numpy array and vice versa its a breeze.\n"
      ],
      "metadata": {
        "id": "qXtqqLbIlbjD"
      }
    },
    {
      "cell_type": "markdown",
      "source": [
        "The torch tensor and Numpy array will share their underlying memory locations.(if the torch tensor is on CPU), and changing one will change the other."
      ],
      "metadata": {
        "id": "v5BArpndluMB"
      }
    },
    {
      "cell_type": "code",
      "source": [
        "a = torch.ones(5)\n",
        "print(a)"
      ],
      "metadata": {
        "colab": {
          "base_uri": "https://localhost:8080/"
        },
        "id": "6B42JfrFlY03",
        "outputId": "8ebc2ab2-c970-42d1-af39-d099c4bcb5a6"
      },
      "execution_count": 39,
      "outputs": [
        {
          "output_type": "stream",
          "name": "stdout",
          "text": [
            "tensor([1., 1., 1., 1., 1.])\n"
          ]
        }
      ]
    },
    {
      "cell_type": "code",
      "source": [
        "b = a.numpy()\n",
        "b"
      ],
      "metadata": {
        "colab": {
          "base_uri": "https://localhost:8080/"
        },
        "id": "M_83tssEl-KW",
        "outputId": "da5d99b1-3ae4-4c06-e837-51216d28cef0"
      },
      "execution_count": 40,
      "outputs": [
        {
          "output_type": "execute_result",
          "data": {
            "text/plain": [
              "array([1., 1., 1., 1., 1.], dtype=float32)"
            ]
          },
          "metadata": {},
          "execution_count": 40
        }
      ]
    },
    {
      "cell_type": "markdown",
      "source": [
        "See how the numpy array changed in value."
      ],
      "metadata": {
        "id": "U_K9hNBimLMR"
      }
    },
    {
      "cell_type": "code",
      "source": [
        "a.add_(1)\n",
        "print(a,b)"
      ],
      "metadata": {
        "colab": {
          "base_uri": "https://localhost:8080/"
        },
        "id": "yAXs_hoemKIP",
        "outputId": "332af92f-fd5f-4136-8dad-cee79fb707e5"
      },
      "execution_count": 41,
      "outputs": [
        {
          "output_type": "stream",
          "name": "stdout",
          "text": [
            "tensor([2., 2., 2., 2., 2.]) [2. 2. 2. 2. 2.]\n"
          ]
        }
      ]
    },
    {
      "cell_type": "code",
      "source": [
        "a = np.ones(5)\n",
        "b = torch.from_numpy(a)\n",
        "np.add(a,1.4,out = a)"
      ],
      "metadata": {
        "colab": {
          "base_uri": "https://localhost:8080/"
        },
        "id": "O3GbwxXDmYSL",
        "outputId": "e95df6cb-6f27-40e0-97de-18c320d3fdf1"
      },
      "execution_count": 42,
      "outputs": [
        {
          "output_type": "execute_result",
          "data": {
            "text/plain": [
              "array([2.4, 2.4, 2.4, 2.4, 2.4])"
            ]
          },
          "metadata": {},
          "execution_count": 42
        }
      ]
    },
    {
      "cell_type": "markdown",
      "source": [
        "## CUDA Tensors"
      ],
      "metadata": {
        "id": "invaRliD-XOR"
      }
    },
    {
      "cell_type": "code",
      "source": [
        "#let us run this cell only if cuda is available\n",
        "# we will use ``torch.device`` objects to move tensors in and out of GPU\n",
        "if torch.cuda.is_available():\n",
        "  device = torch.device(\"cuda\")\n",
        "  y = torch.ones_like(x,device = device)\n",
        "  x = x.to(device)\n",
        "  print(z)\n",
        "  print(z.to(\"cpu\", torch.double))"
      ],
      "metadata": {
        "id": "XvkpoGAQ-baN"
      },
      "execution_count": 43,
      "outputs": []
    },
    {
      "cell_type": "markdown",
      "source": [
        "Forward Propogation"
      ],
      "metadata": {
        "id": "20rmSG8F_cdL"
      }
    },
    {
      "cell_type": "code",
      "source": [
        "a = torch.Tensor([2])\n",
        "b = torch.Tensor([-4])\n",
        "c = torch.Tensor([-2])\n",
        "d = torch.Tensor([2])\n",
        "\n",
        "e = a+b\n",
        "f = c*d\n",
        "\n",
        "g = e*f\n",
        "print(e,f,g)"
      ],
      "metadata": {
        "colab": {
          "base_uri": "https://localhost:8080/"
        },
        "id": "65hsmLif_gat",
        "outputId": "fe2e4543-40f9-4676-d409-d2e3aabca555"
      },
      "execution_count": 45,
      "outputs": [
        {
          "output_type": "stream",
          "name": "stdout",
          "text": [
            "tensor([-2.]) tensor([-4.]) tensor([8.])\n"
          ]
        }
      ]
    },
    {
      "cell_type": "code",
      "source": [
        "x = torch.tensor(-3., requires_grad=True)\n",
        "y = torch.tensor(5., requires_grad=True)\n",
        "z = torch.tensor(-1., requires_grad=True)\n",
        "\n",
        "q = x + y\n",
        "f = q * z\n",
        "f.backward()\n",
        "print(\"Gradient of z,y,x are:\"+str(z.grad)+str(y.grad)+str(x.grad))"
      ],
      "metadata": {
        "colab": {
          "base_uri": "https://localhost:8080/"
        },
        "id": "jGFQGmI2_cCp",
        "outputId": "7b76161f-2231-4dd1-aaa3-760ba898e20c"
      },
      "execution_count": 51,
      "outputs": [
        {
          "output_type": "stream",
          "name": "stdout",
          "text": [
            "Gradient of z,y,x are:tensor(2.)tensor(-1.)tensor(-1.)\n"
          ]
        }
      ]
    },
    {
      "cell_type": "markdown",
      "source": [
        "Fully Connected neural networks."
      ],
      "metadata": {
        "id": "tHH4BDHsN70W"
      }
    },
    {
      "cell_type": "code",
      "source": [
        "import torch\n",
        "input_layer = torch.rand(10)# declaration of inputs\n",
        "w1 = torch.rand(10,20)\n",
        "w2 = torch.rand(20,20)\n",
        "w3 = torch.rand(20,4)\n",
        "\n",
        "h1 = torch.matmul(input_layer,w1)# first hidden layer.\n",
        "h2 = torch.matmul(h1,w2)# subsequent hidden layer.\n",
        "output_layer = torch.matmul(h2,w3)\n",
        "\n",
        "print(h1,h2,output_layer,sep = \"\\n\")"
      ],
      "metadata": {
        "colab": {
          "base_uri": "https://localhost:8080/"
        },
        "id": "APiVkj0EN_CM",
        "outputId": "e1b76263-f9ff-4765-f5eb-4f971a287f32"
      },
      "execution_count": 52,
      "outputs": [
        {
          "output_type": "stream",
          "name": "stdout",
          "text": [
            "tensor([2.8828, 2.3721, 3.3445, 3.1905, 2.8747, 2.0490, 2.8308, 2.2947, 2.4581,\n",
            "        2.6624, 2.5035, 2.2328, 2.9671, 3.2435, 2.5600, 2.2667, 2.2941, 1.6778,\n",
            "        2.0018, 2.5875])\n",
            "tensor([28.3993, 24.3472, 23.1005, 22.7352, 23.8806, 27.5794, 20.7466, 23.8700,\n",
            "        27.6063, 19.2883, 30.3447, 20.5951, 27.5912, 24.5500, 23.3259, 23.6890,\n",
            "        25.4389, 25.0883, 30.7696, 19.7363])\n",
            "tensor([262.2821, 243.0472, 245.0803, 255.9052])\n"
          ]
        }
      ]
    },
    {
      "cell_type": "markdown",
      "source": [
        "Building a neural network - Pytorch style"
      ],
      "metadata": {
        "id": "qSlopeNFO7X8"
      }
    },
    {
      "cell_type": "code",
      "source": [
        "import torch.nn as nn\n",
        "class Net(nn.Module):\n",
        "  def __init__(self):\n",
        "    super(Net, self).__init__()\n",
        "    self.fc1 = nn.Linear(10,20)\n",
        "    self.fc2 = nn.Linear(20,20)\n",
        "    self.output = nn.Linear(20,4)\n",
        "\n",
        "\n",
        "  def forward(self,x):\n",
        "    x = self.fc1(x)\n",
        "    x = self.fc2(x)\n",
        "    x = self.output(x)\n",
        "    return x\n",
        "\n",
        "\n",
        "input_layer = torch.rand(10)\n",
        "net = Net()\n",
        "result = net(input_layer)"
      ],
      "metadata": {
        "id": "IaPEuU8JO64U"
      },
      "execution_count": 54,
      "outputs": []
    },
    {
      "cell_type": "code",
      "source": [
        "result"
      ],
      "metadata": {
        "colab": {
          "base_uri": "https://localhost:8080/"
        },
        "id": "aHEz_qsxQAN-",
        "outputId": "7759bca2-b913-4123-a0ab-e9c6c472bc27"
      },
      "execution_count": 55,
      "outputs": [
        {
          "output_type": "execute_result",
          "data": {
            "text/plain": [
              "tensor([-0.3017, -0.0238, -0.1553, -0.1947], grad_fn=<AddBackward0>)"
            ]
          },
          "metadata": {},
          "execution_count": 55
        }
      ]
    }
  ]
}