{
  "nbformat": 4,
  "nbformat_minor": 0,
  "metadata": {
    "colab": {
      "provenance": [],
      "collapsed_sections": [],
      "authorship_tag": "ABX9TyOX3zBGgRyg4PWZO8qbxRGf",
      "include_colab_link": true
    },
    "kernelspec": {
      "name": "python3",
      "display_name": "Python 3"
    },
    "language_info": {
      "name": "python"
    }
  },
  "cells": [
    {
      "cell_type": "markdown",
      "metadata": {
        "id": "view-in-github",
        "colab_type": "text"
      },
      "source": [
        "<a href=\"https://colab.research.google.com/github/Harish-aditya/DeepLearning_using-_Pytorch./blob/main/Deep_learning_using_Pytorch.ipynb\" target=\"_parent\"><img src=\"https://colab.research.google.com/assets/colab-badge.svg\" alt=\"Open In Colab\"/></a>"
      ]
    },
    {
      "cell_type": "markdown",
      "source": [
        "Import Functions."
      ],
      "metadata": {
        "id": "B2QsMrNdDNT9"
      }
    },
    {
      "cell_type": "code",
      "execution_count": 1,
      "metadata": {
        "id": "SzaAkfEm5dzk"
      },
      "outputs": [],
      "source": [
        "from __future__ import print_function\n",
        "import torch"
      ]
    },
    {
      "cell_type": "markdown",
      "source": [
        "Pytorch compared to NumPy\n",
        "Matrix formation using Pytorch"
      ],
      "metadata": {
        "id": "-9iQm2WvHSaj"
      }
    },
    {
      "cell_type": "code",
      "source": [
        "torch.tensor([[2,3,5],[1,2,9]])"
      ],
      "metadata": {
        "colab": {
          "base_uri": "https://localhost:8080/"
        },
        "id": "inTTsJM-G0I5",
        "outputId": "7c2a31a2-d362-46b0-a890-675918567fbe"
      },
      "execution_count": 2,
      "outputs": [
        {
          "output_type": "execute_result",
          "data": {
            "text/plain": [
              "tensor([[2, 3, 5],\n",
              "        [1, 2, 9]])"
            ]
          },
          "metadata": {},
          "execution_count": 2
        }
      ]
    },
    {
      "cell_type": "code",
      "source": [
        "torch.rand(2,2)"
      ],
      "metadata": {
        "colab": {
          "base_uri": "https://localhost:8080/"
        },
        "id": "C2YxlxSYKdYF",
        "outputId": "212c3515-dadf-4b3e-c70e-d549c7ed90a3"
      },
      "execution_count": 3,
      "outputs": [
        {
          "output_type": "execute_result",
          "data": {
            "text/plain": [
              "tensor([[0.6953, 0.0759],\n",
              "        [0.5712, 0.7705]])"
            ]
          },
          "metadata": {},
          "execution_count": 3
        }
      ]
    },
    {
      "cell_type": "code",
      "source": [
        "a = torch.rand((3,5))\n",
        "a"
      ],
      "metadata": {
        "colab": {
          "base_uri": "https://localhost:8080/"
        },
        "id": "s5C1Te0lKiTG",
        "outputId": "26502469-ae3d-41e1-fe2d-d35afdc9a47c"
      },
      "execution_count": 4,
      "outputs": [
        {
          "output_type": "execute_result",
          "data": {
            "text/plain": [
              "tensor([[0.8481, 0.1105, 0.1455, 0.7326, 0.2395],\n",
              "        [0.7929, 0.1775, 0.5729, 0.4199, 0.2695],\n",
              "        [0.9742, 0.4484, 0.4860, 0.7168, 0.4628]])"
            ]
          },
          "metadata": {},
          "execution_count": 4
        }
      ]
    },
    {
      "cell_type": "code",
      "source": [
        "a.shape"
      ],
      "metadata": {
        "colab": {
          "base_uri": "https://localhost:8080/"
        },
        "id": "9hmmMdR5Kniu",
        "outputId": "5d20b526-2dd9-476b-8e7e-5579a571ab42"
      },
      "execution_count": 5,
      "outputs": [
        {
          "output_type": "execute_result",
          "data": {
            "text/plain": [
              "torch.Size([3, 5])"
            ]
          },
          "metadata": {},
          "execution_count": 5
        }
      ]
    },
    {
      "cell_type": "markdown",
      "source": [
        "Matrix formation using numpy"
      ],
      "metadata": {
        "id": "nXRAT6RZLIMa"
      }
    },
    {
      "cell_type": "code",
      "source": [
        "import numpy as np\n",
        "np.array([[2,3,4],[1,2,3]])"
      ],
      "metadata": {
        "colab": {
          "base_uri": "https://localhost:8080/"
        },
        "id": "oD6EVcE3LFuf",
        "outputId": "e79b1a8e-e3dd-41a7-fd69-0ca9ba54bab5"
      },
      "execution_count": 6,
      "outputs": [
        {
          "output_type": "execute_result",
          "data": {
            "text/plain": [
              "array([[2, 3, 4],\n",
              "       [1, 2, 3]])"
            ]
          },
          "metadata": {},
          "execution_count": 6
        }
      ]
    },
    {
      "cell_type": "code",
      "source": [
        "np.random.rand(2,2)"
      ],
      "metadata": {
        "colab": {
          "base_uri": "https://localhost:8080/"
        },
        "id": "lHbScLckVZaI",
        "outputId": "b4b8b623-2039-41d6-9288-8b2de500d51c"
      },
      "execution_count": 7,
      "outputs": [
        {
          "output_type": "execute_result",
          "data": {
            "text/plain": [
              "array([[0.80177449, 0.90648848],\n",
              "       [0.13811981, 0.83076884]])"
            ]
          },
          "metadata": {},
          "execution_count": 7
        }
      ]
    },
    {
      "cell_type": "markdown",
      "source": [
        "# Construct a randomly initialized matrix and operation using Pytorch"
      ],
      "metadata": {
        "id": "dkj1JzVrVtDc"
      }
    },
    {
      "cell_type": "code",
      "source": [
        "a = torch.rand((2,2))\n",
        "b = torch.rand((2,2))"
      ],
      "metadata": {
        "id": "FgxgTTrVVdew"
      },
      "execution_count": 8,
      "outputs": []
    },
    {
      "cell_type": "code",
      "source": [
        "torch.matmul(a,b)"
      ],
      "metadata": {
        "colab": {
          "base_uri": "https://localhost:8080/"
        },
        "id": "liD93K_pWfWm",
        "outputId": "662dbbf1-bff6-4033-c5fa-4ba1ae8890fc"
      },
      "execution_count": 9,
      "outputs": [
        {
          "output_type": "execute_result",
          "data": {
            "text/plain": [
              "tensor([[0.1093, 0.1742],\n",
              "        [0.1579, 0.2741]])"
            ]
          },
          "metadata": {},
          "execution_count": 9
        }
      ]
    },
    {
      "cell_type": "code",
      "source": [
        "a*b"
      ],
      "metadata": {
        "colab": {
          "base_uri": "https://localhost:8080/"
        },
        "id": "UXa40uDZWodf",
        "outputId": "f27fdd2b-1cd7-4ee3-8b08-780c0f2c8bd0"
      },
      "execution_count": 10,
      "outputs": [
        {
          "output_type": "execute_result",
          "data": {
            "text/plain": [
              "tensor([[0.0980, 0.0131],\n",
              "        [0.0181, 0.2533]])"
            ]
          },
          "metadata": {},
          "execution_count": 10
        }
      ]
    },
    {
      "cell_type": "code",
      "source": [
        "a"
      ],
      "metadata": {
        "colab": {
          "base_uri": "https://localhost:8080/"
        },
        "id": "aTEaQ24ZWtKH",
        "outputId": "0477e4dc-0746-461a-e45b-da0f8af6ce43"
      },
      "execution_count": 11,
      "outputs": [
        {
          "output_type": "execute_result",
          "data": {
            "text/plain": [
              "tensor([[0.2615, 0.0222],\n",
              "        [0.0354, 0.2825]])"
            ]
          },
          "metadata": {},
          "execution_count": 11
        }
      ]
    },
    {
      "cell_type": "code",
      "source": [
        "a"
      ],
      "metadata": {
        "colab": {
          "base_uri": "https://localhost:8080/"
        },
        "id": "_Qw5YckNWucz",
        "outputId": "14c4167a-2257-4075-9205-e2a11eccf623"
      },
      "execution_count": 12,
      "outputs": [
        {
          "output_type": "execute_result",
          "data": {
            "text/plain": [
              "tensor([[0.2615, 0.0222],\n",
              "        [0.0354, 0.2825]])"
            ]
          },
          "metadata": {},
          "execution_count": 12
        }
      ]
    },
    {
      "cell_type": "markdown",
      "source": [
        "Construct a randomly initialized matrix and operation using NumPy"
      ],
      "metadata": {
        "id": "-aJtdNhXW-Ba"
      }
    },
    {
      "cell_type": "code",
      "source": [
        "a = np.random.rand(2,2)\n",
        "b = np.random.rand(2,2)"
      ],
      "metadata": {
        "id": "gOYvd1V2XDOq"
      },
      "execution_count": 13,
      "outputs": []
    },
    {
      "cell_type": "code",
      "source": [
        "np.dot(a,b)\n",
        "# normal matrix multiplication\n",
        "# Where the condition of number of columns of first array should be equal to number of rows of second array is checked.\n",
        "# then only numpy.dot() function take place else it throws an error."
      ],
      "metadata": {
        "colab": {
          "base_uri": "https://localhost:8080/"
        },
        "id": "xgB04qGZXMdO",
        "outputId": "b2d5817d-303f-4b9d-afd9-3317df8c1d06"
      },
      "execution_count": 14,
      "outputs": [
        {
          "output_type": "execute_result",
          "data": {
            "text/plain": [
              "array([[0.49057865, 0.15938908],\n",
              "       [0.66578296, 0.20393805]])"
            ]
          },
          "metadata": {},
          "execution_count": 14
        }
      ]
    },
    {
      "cell_type": "code",
      "source": [
        "np.multiply(a,b)\n",
        "# '*' \n",
        "# element wise multiplication"
      ],
      "metadata": {
        "colab": {
          "base_uri": "https://localhost:8080/"
        },
        "id": "dz-PcCqhXOvr",
        "outputId": "dd2a3c64-7d18-4e08-8db4-d93e96fa0344"
      },
      "execution_count": 15,
      "outputs": [
        {
          "output_type": "execute_result",
          "data": {
            "text/plain": [
              "array([[0.21134266, 0.07021025],\n",
              "       [0.07843906, 0.18421557]])"
            ]
          },
          "metadata": {},
          "execution_count": 15
        }
      ]
    },
    {
      "cell_type": "markdown",
      "source": [
        "### Construct a 5x3 matrix uninitialized:"
      ],
      "metadata": {
        "id": "ne59XlYYVY4h"
      }
    },
    {
      "cell_type": "code",
      "source": [
        "x = torch.empty(5,3)"
      ],
      "metadata": {
        "id": "iwqtAY3pVUep"
      },
      "execution_count": 16,
      "outputs": []
    },
    {
      "cell_type": "code",
      "source": [
        "x"
      ],
      "metadata": {
        "colab": {
          "base_uri": "https://localhost:8080/"
        },
        "id": "V-JmSdO7ViDD",
        "outputId": "0a56daaf-dabd-4d87-c66f-37c2e9ece889"
      },
      "execution_count": 17,
      "outputs": [
        {
          "output_type": "execute_result",
          "data": {
            "text/plain": [
              "tensor([[1.7250e-35, 0.0000e+00, 3.3631e-44],\n",
              "        [0.0000e+00,        nan, 7.9286e-01],\n",
              "        [1.1578e+27, 1.1362e+30, 7.1547e+22],\n",
              "        [4.5828e+30, 1.2121e+04, 7.1846e+22],\n",
              "        [9.2198e-39, 7.0374e+22, 4.6281e-01]])"
            ]
          },
          "metadata": {},
          "execution_count": 17
        }
      ]
    },
    {
      "cell_type": "markdown",
      "source": [
        "### Construct a matrix filled zeros and of dtypes long:"
      ],
      "metadata": {
        "id": "9ztx9sREVuLU"
      }
    },
    {
      "cell_type": "code",
      "source": [
        "y = torch.zeros((2,2))\n",
        "y"
      ],
      "metadata": {
        "colab": {
          "base_uri": "https://localhost:8080/"
        },
        "id": "_m6ixbA7V28R",
        "outputId": "1820c23f-2b68-4aa6-a05b-08aca9667cb3"
      },
      "execution_count": 18,
      "outputs": [
        {
          "output_type": "execute_result",
          "data": {
            "text/plain": [
              "tensor([[0., 0.],\n",
              "        [0., 0.]])"
            ]
          },
          "metadata": {},
          "execution_count": 18
        }
      ]
    },
    {
      "cell_type": "code",
      "source": [
        "y_num = np.zeros((2,2))\n",
        "y_num"
      ],
      "metadata": {
        "colab": {
          "base_uri": "https://localhost:8080/"
        },
        "id": "vismKOz9V-mY",
        "outputId": "f2c5ff80-7557-4151-c9cf-6e17b58a7ca2"
      },
      "execution_count": 19,
      "outputs": [
        {
          "output_type": "execute_result",
          "data": {
            "text/plain": [
              "array([[0., 0.],\n",
              "       [0., 0.]])"
            ]
          },
          "metadata": {},
          "execution_count": 19
        }
      ]
    },
    {
      "cell_type": "code",
      "source": [
        "x = torch.zeros(5,3,dtype = torch.long)\n",
        "print(x)"
      ],
      "metadata": {
        "colab": {
          "base_uri": "https://localhost:8080/"
        },
        "id": "5pq93_sIWK8x",
        "outputId": "c90a5444-5322-43e0-ca06-4f2feea93786"
      },
      "execution_count": 20,
      "outputs": [
        {
          "output_type": "stream",
          "name": "stdout",
          "text": [
            "tensor([[0, 0, 0],\n",
            "        [0, 0, 0],\n",
            "        [0, 0, 0],\n",
            "        [0, 0, 0],\n",
            "        [0, 0, 0]])\n"
          ]
        }
      ]
    },
    {
      "cell_type": "markdown",
      "source": [
        "### Construct a matrix of ones"
      ],
      "metadata": {
        "id": "56O4t7HxWao9"
      }
    },
    {
      "cell_type": "code",
      "source": [
        "o = torch.ones(2,2)"
      ],
      "metadata": {
        "id": "w7dzkpZtWYux"
      },
      "execution_count": 21,
      "outputs": []
    },
    {
      "cell_type": "code",
      "source": [
        "o"
      ],
      "metadata": {
        "colab": {
          "base_uri": "https://localhost:8080/"
        },
        "id": "zsIJIsRTWks5",
        "outputId": "7508dd08-d976-490a-e759-15d3c84d4836"
      },
      "execution_count": 22,
      "outputs": [
        {
          "output_type": "execute_result",
          "data": {
            "text/plain": [
              "tensor([[1., 1.],\n",
              "        [1., 1.]])"
            ]
          },
          "metadata": {},
          "execution_count": 22
        }
      ]
    },
    {
      "cell_type": "code",
      "source": [
        "o_num = np.ones((2,2))\n",
        "o_num"
      ],
      "metadata": {
        "colab": {
          "base_uri": "https://localhost:8080/"
        },
        "id": "GHlMk33oW_Gj",
        "outputId": "4a7ae73d-d9f7-42df-a77a-7ddd0ea39ba2"
      },
      "execution_count": 23,
      "outputs": [
        {
          "output_type": "execute_result",
          "data": {
            "text/plain": [
              "array([[1., 1.],\n",
              "       [1., 1.]])"
            ]
          },
          "metadata": {},
          "execution_count": 23
        }
      ]
    },
    {
      "cell_type": "markdown",
      "source": [
        "### Construst identity matrix"
      ],
      "metadata": {
        "id": "drKpVi1PXRjk"
      }
    },
    {
      "cell_type": "code",
      "source": [
        "c_num = np.identity(5)\n",
        "c_num"
      ],
      "metadata": {
        "colab": {
          "base_uri": "https://localhost:8080/"
        },
        "id": "LjK2Sx3dXVni",
        "outputId": "a35a70b6-bbfa-48a7-c919-258affa92370"
      },
      "execution_count": 24,
      "outputs": [
        {
          "output_type": "execute_result",
          "data": {
            "text/plain": [
              "array([[1., 0., 0., 0., 0.],\n",
              "       [0., 1., 0., 0., 0.],\n",
              "       [0., 0., 1., 0., 0.],\n",
              "       [0., 0., 0., 1., 0.],\n",
              "       [0., 0., 0., 0., 1.]])"
            ]
          },
          "metadata": {},
          "execution_count": 24
        }
      ]
    },
    {
      "cell_type": "code",
      "source": [
        "c = torch.eye(2)\n",
        "c"
      ],
      "metadata": {
        "colab": {
          "base_uri": "https://localhost:8080/"
        },
        "id": "H47fCSiaXlto",
        "outputId": "5352f479-26b6-409f-fec2-aa76a3a86924"
      },
      "execution_count": 25,
      "outputs": [
        {
          "output_type": "execute_result",
          "data": {
            "text/plain": [
              "tensor([[1., 0.],\n",
              "        [0., 1.]])"
            ]
          },
          "metadata": {},
          "execution_count": 25
        }
      ]
    },
    {
      "cell_type": "markdown",
      "source": [
        "## Converting NumPy array to torch tensor see how changing the np array changed the Torch Tensor automatically"
      ],
      "metadata": {
        "id": "5B3ze4PlXp1v"
      }
    },
    {
      "cell_type": "code",
      "source": [
        "d = torch.from_numpy(c_num)"
      ],
      "metadata": {
        "id": "pD1FkSb_X36u"
      },
      "execution_count": 26,
      "outputs": []
    },
    {
      "cell_type": "code",
      "source": [
        "d"
      ],
      "metadata": {
        "colab": {
          "base_uri": "https://localhost:8080/"
        },
        "id": "hDnDejuMYEiH",
        "outputId": "b593c01c-02e5-4c31-c80d-81f3f9fa64b9"
      },
      "execution_count": 27,
      "outputs": [
        {
          "output_type": "execute_result",
          "data": {
            "text/plain": [
              "tensor([[1., 0., 0., 0., 0.],\n",
              "        [0., 1., 0., 0., 0.],\n",
              "        [0., 0., 1., 0., 0.],\n",
              "        [0., 0., 0., 1., 0.],\n",
              "        [0., 0., 0., 0., 1.]], dtype=torch.float64)"
            ]
          },
          "metadata": {},
          "execution_count": 27
        }
      ]
    },
    {
      "cell_type": "code",
      "source": [
        "d_num = c.numpy()\n",
        "d_num"
      ],
      "metadata": {
        "colab": {
          "base_uri": "https://localhost:8080/"
        },
        "id": "MW5x2cxVYXcq",
        "outputId": "c726aaf5-51af-4f96-9e1a-22b4a663ec7a"
      },
      "execution_count": 28,
      "outputs": [
        {
          "output_type": "execute_result",
          "data": {
            "text/plain": [
              "array([[1., 0.],\n",
              "       [0., 1.]], dtype=float32)"
            ]
          },
          "metadata": {},
          "execution_count": 28
        }
      ]
    },
    {
      "cell_type": "markdown",
      "source": [
        "## create a tensor based on an existing tensor."
      ],
      "metadata": {
        "id": "LDsPoD4lY55c"
      }
    },
    {
      "cell_type": "code",
      "source": [
        "x1 = x.new_ones(5,3, dtype=torch.double)\n",
        "print(x1)\n",
        "\n",
        "x2 = x.new_ones(5,3, dtype=torch.float)\n",
        "print(x2)\n",
        "\n",
        "x3 = torch.randn_like(x, dtype = float)\n",
        "print(x3)"
      ],
      "metadata": {
        "colab": {
          "base_uri": "https://localhost:8080/"
        },
        "id": "zbA0hkZ7Y5db",
        "outputId": "befea3d2-67c3-400d-db49-8b9a29d0ad25"
      },
      "execution_count": 29,
      "outputs": [
        {
          "output_type": "stream",
          "name": "stdout",
          "text": [
            "tensor([[1., 1., 1.],\n",
            "        [1., 1., 1.],\n",
            "        [1., 1., 1.],\n",
            "        [1., 1., 1.],\n",
            "        [1., 1., 1.]], dtype=torch.float64)\n",
            "tensor([[1., 1., 1.],\n",
            "        [1., 1., 1.],\n",
            "        [1., 1., 1.],\n",
            "        [1., 1., 1.],\n",
            "        [1., 1., 1.]])\n",
            "tensor([[ 2.5628,  1.4494,  1.0240],\n",
            "        [ 1.3613, -0.4953,  0.0694],\n",
            "        [-1.0982, -1.3893,  2.0967],\n",
            "        [ 1.1342, -0.4159,  0.9585],\n",
            "        [ 1.2520,  0.7083,  0.3608]], dtype=torch.float64)\n"
          ]
        }
      ]
    },
    {
      "cell_type": "markdown",
      "source": [
        "Size of the array of tensors."
      ],
      "metadata": {
        "id": "PJshBKHEZpz9"
      }
    },
    {
      "cell_type": "code",
      "source": [
        "print(x.size())"
      ],
      "metadata": {
        "colab": {
          "base_uri": "https://localhost:8080/"
        },
        "id": "hrYRZGQnZuo9",
        "outputId": "83fa67af-edff-4e6f-e97d-3dbf15512c67"
      },
      "execution_count": 30,
      "outputs": [
        {
          "output_type": "stream",
          "name": "stdout",
          "text": [
            "torch.Size([5, 3])\n"
          ]
        }
      ]
    },
    {
      "cell_type": "markdown",
      "source": [
        "\"torch size\" is in fact a tuple, so it supports all tuple operations.\n",
        "Operations There are multiple syntaxes for operations. In the following example, we will take a look at the addition operations"
      ],
      "metadata": {
        "id": "CnaToo_Hob2N"
      }
    },
    {
      "cell_type": "code",
      "source": [
        "y = torch.rand(2,2)\n",
        "print(o,\"\\n\",y)\n",
        "print(o+y)"
      ],
      "metadata": {
        "colab": {
          "base_uri": "https://localhost:8080/"
        },
        "id": "-XeR3WxxZxjW",
        "outputId": "d93773fc-64cb-4fdc-e54e-7bea66b8cab1"
      },
      "execution_count": 31,
      "outputs": [
        {
          "output_type": "stream",
          "name": "stdout",
          "text": [
            "tensor([[1., 1.],\n",
            "        [1., 1.]]) \n",
            " tensor([[0.5381, 0.5996],\n",
            "        [0.2343, 0.1869]])\n",
            "tensor([[1.5381, 1.5996],\n",
            "        [1.2343, 1.1869]])\n"
          ]
        }
      ]
    },
    {
      "cell_type": "code",
      "source": [
        "torch.add(o,y)"
      ],
      "metadata": {
        "colab": {
          "base_uri": "https://localhost:8080/"
        },
        "id": "lIHmSY75pWIz",
        "outputId": "7cbf3025-8fc9-4200-ef9c-2b9b56c1ff51"
      },
      "execution_count": 32,
      "outputs": [
        {
          "output_type": "execute_result",
          "data": {
            "text/plain": [
              "tensor([[1.5381, 1.5996],\n",
              "        [1.2343, 1.1869]])"
            ]
          },
          "metadata": {},
          "execution_count": 32
        }
      ]
    },
    {
      "cell_type": "markdown",
      "source": [
        "using out option to get output as arguement"
      ],
      "metadata": {
        "id": "hTxYngmXp2oH"
      }
    },
    {
      "cell_type": "code",
      "source": [
        "result = torch.empty(2,2)\n",
        "torch.add(o,y,out = result)\n",
        "result"
      ],
      "metadata": {
        "colab": {
          "base_uri": "https://localhost:8080/"
        },
        "id": "FOCIww2dpcP9",
        "outputId": "bd5a7281-943f-4f8f-8cbd-8e1fce9f3e9e"
      },
      "execution_count": 33,
      "outputs": [
        {
          "output_type": "execute_result",
          "data": {
            "text/plain": [
              "tensor([[1.5381, 1.5996],\n",
              "        [1.2343, 1.1869]])"
            ]
          },
          "metadata": {},
          "execution_count": 33
        }
      ]
    },
    {
      "cell_type": "markdown",
      "source": [
        "Adding in place."
      ],
      "metadata": {
        "id": "YMzBSDdCqLXg"
      }
    },
    {
      "cell_type": "code",
      "source": [
        "o.add_(y)"
      ],
      "metadata": {
        "colab": {
          "base_uri": "https://localhost:8080/"
        },
        "id": "lrggP_ORp6Ej",
        "outputId": "fce14781-9592-4c4c-b5d0-8d94def202be"
      },
      "execution_count": 34,
      "outputs": [
        {
          "output_type": "execute_result",
          "data": {
            "text/plain": [
              "tensor([[1.5381, 1.5996],\n",
              "        [1.2343, 1.1869]])"
            ]
          },
          "metadata": {},
          "execution_count": 34
        }
      ]
    },
    {
      "cell_type": "markdown",
      "source": [
        "Note:\n",
        "Any operation that mutates a tensor in-place is post-fixed with an \"_\". for example: \"x.copy_(y)\" "
      ],
      "metadata": {
        "id": "87L0DjUeqWYg"
      }
    },
    {
      "cell_type": "code",
      "source": [
        "index = torch.rand(5,5)\n",
        "index"
      ],
      "metadata": {
        "colab": {
          "base_uri": "https://localhost:8080/"
        },
        "id": "ctBZtiIUqTca",
        "outputId": "a3e64e4e-3575-42b9-844e-35aa471b3ea0"
      },
      "execution_count": 35,
      "outputs": [
        {
          "output_type": "execute_result",
          "data": {
            "text/plain": [
              "tensor([[0.1809, 0.7233, 0.4746, 0.5235, 0.7496],\n",
              "        [0.5179, 0.1635, 0.1277, 0.5112, 0.8371],\n",
              "        [0.3136, 0.6976, 0.7300, 0.6498, 0.7469],\n",
              "        [0.7414, 0.2502, 0.8491, 0.5988, 0.9989],\n",
              "        [0.9256, 0.1850, 0.3398, 0.2448, 0.6387]])"
            ]
          },
          "metadata": {},
          "execution_count": 35
        }
      ]
    },
    {
      "cell_type": "code",
      "source": [
        "index[:,0]"
      ],
      "metadata": {
        "colab": {
          "base_uri": "https://localhost:8080/"
        },
        "id": "elq3Xnn5rQ79",
        "outputId": "84f8914a-1368-492d-80f5-4b92dccf3e83"
      },
      "execution_count": 36,
      "outputs": [
        {
          "output_type": "execute_result",
          "data": {
            "text/plain": [
              "tensor([0.1809, 0.5179, 0.3136, 0.7414, 0.9256])"
            ]
          },
          "metadata": {},
          "execution_count": 36
        }
      ]
    },
    {
      "cell_type": "markdown",
      "source": [
        "Resizing: If you want to resize/reshape tensor, you can use torch.view:"
      ],
      "metadata": {
        "id": "D75PlGYw5P2O"
      }
    },
    {
      "cell_type": "code",
      "source": [
        "x2 = torch.randn(4,4)\n",
        "y = x2.view(16)\n",
        "\n",
        "z = x2.view(-1,4)# -1 helps tensor to reshape it in required manner according to\n",
        "# second arguement (4) .\n",
        "print(x2,y,z,sep = \"\\n\")\n",
        "print(x2.size(),y.size(),z.size())"
      ],
      "metadata": {
        "colab": {
          "base_uri": "https://localhost:8080/"
        },
        "id": "EAye8rgA5X6Z",
        "outputId": "0c4328c7-d7a8-43ff-f9c0-da843f623cc0"
      },
      "execution_count": 37,
      "outputs": [
        {
          "output_type": "stream",
          "name": "stdout",
          "text": [
            "tensor([[-0.1017, -0.4728,  0.2401, -0.8237],\n",
            "        [ 1.2091,  2.2582,  0.0646,  1.3728],\n",
            "        [ 0.1244,  0.2047, -0.4426,  1.4835],\n",
            "        [ 1.0536, -0.5399,  1.4713, -0.7068]])\n",
            "tensor([-0.1017, -0.4728,  0.2401, -0.8237,  1.2091,  2.2582,  0.0646,  1.3728,\n",
            "         0.1244,  0.2047, -0.4426,  1.4835,  1.0536, -0.5399,  1.4713, -0.7068])\n",
            "tensor([[-0.1017, -0.4728,  0.2401, -0.8237],\n",
            "        [ 1.2091,  2.2582,  0.0646,  1.3728],\n",
            "        [ 0.1244,  0.2047, -0.4426,  1.4835],\n",
            "        [ 1.0536, -0.5399,  1.4713, -0.7068]])\n",
            "torch.Size([4, 4]) torch.Size([16]) torch.Size([4, 4])\n"
          ]
        }
      ]
    },
    {
      "cell_type": "markdown",
      "source": [
        "NumPy.random.randn generates samples from the normal distribution (mean 0 and variance 1), while numpy.rand from a uniform distribution (in the range [0,1))."
      ],
      "metadata": {
        "id": "X-keo-SM8OLs"
      }
    },
    {
      "cell_type": "markdown",
      "source": [
        "if you have a one element tensor, use .item() to get the value as a pythong number"
      ],
      "metadata": {
        "id": "iVIzerlEFZAZ"
      }
    },
    {
      "cell_type": "code",
      "source": [
        "x = torch.randn(1)\n",
        "x\n",
        "print(x.item())"
      ],
      "metadata": {
        "colab": {
          "base_uri": "https://localhost:8080/"
        },
        "id": "kFnqvjl78uup",
        "outputId": "6c75d534-ba22-42d2-ff85-7786b39de306"
      },
      "execution_count": 38,
      "outputs": [
        {
          "output_type": "stream",
          "name": "stdout",
          "text": [
            "-2.003523588180542\n"
          ]
        }
      ]
    },
    {
      "cell_type": "markdown",
      "source": [
        "Read later:\n",
        "There are more than 100 operations including transposing, indexing, slicing, mathematical operations, linear algebra, random numbers, etc., are described\n",
        "https://pytorch.org/docs/stable/index.html"
      ],
      "metadata": {
        "id": "HFQiakqrlEPA"
      }
    },
    {
      "cell_type": "markdown",
      "source": [
        "NumPy Bridge\n",
        "Converting a torch tensor to a numpy array and vice versa its a breeze.\n"
      ],
      "metadata": {
        "id": "qXtqqLbIlbjD"
      }
    },
    {
      "cell_type": "markdown",
      "source": [
        "The torch tensor and Numpy array will share their underlying memory locations.(if the torch tensor is on CPU), and changing one will change the other."
      ],
      "metadata": {
        "id": "v5BArpndluMB"
      }
    },
    {
      "cell_type": "code",
      "source": [
        "a = torch.ones(5)\n",
        "print(a)"
      ],
      "metadata": {
        "colab": {
          "base_uri": "https://localhost:8080/"
        },
        "id": "6B42JfrFlY03",
        "outputId": "907944be-327b-4771-a43d-b0a9383b1c28"
      },
      "execution_count": 39,
      "outputs": [
        {
          "output_type": "stream",
          "name": "stdout",
          "text": [
            "tensor([1., 1., 1., 1., 1.])\n"
          ]
        }
      ]
    },
    {
      "cell_type": "code",
      "source": [
        "b = a.numpy()\n",
        "b"
      ],
      "metadata": {
        "colab": {
          "base_uri": "https://localhost:8080/"
        },
        "id": "M_83tssEl-KW",
        "outputId": "1ee28c46-9ec6-4d09-bda8-d3543df84e65"
      },
      "execution_count": 40,
      "outputs": [
        {
          "output_type": "execute_result",
          "data": {
            "text/plain": [
              "array([1., 1., 1., 1., 1.], dtype=float32)"
            ]
          },
          "metadata": {},
          "execution_count": 40
        }
      ]
    },
    {
      "cell_type": "markdown",
      "source": [
        "See how the numpy array changed in value."
      ],
      "metadata": {
        "id": "U_K9hNBimLMR"
      }
    },
    {
      "cell_type": "code",
      "source": [
        "a.add_(1)\n",
        "print(a,b)"
      ],
      "metadata": {
        "colab": {
          "base_uri": "https://localhost:8080/"
        },
        "id": "yAXs_hoemKIP",
        "outputId": "084722d0-3367-449d-f06a-584c0efab392"
      },
      "execution_count": 41,
      "outputs": [
        {
          "output_type": "stream",
          "name": "stdout",
          "text": [
            "tensor([2., 2., 2., 2., 2.]) [2. 2. 2. 2. 2.]\n"
          ]
        }
      ]
    },
    {
      "cell_type": "code",
      "source": [
        "a = np.ones(5)\n",
        "b = torch.from_numpy(a)\n",
        "np.add(a,1.4,out = a)"
      ],
      "metadata": {
        "colab": {
          "base_uri": "https://localhost:8080/"
        },
        "id": "O3GbwxXDmYSL",
        "outputId": "38808c6a-945a-4442-b4ac-11127d329eda"
      },
      "execution_count": 42,
      "outputs": [
        {
          "output_type": "execute_result",
          "data": {
            "text/plain": [
              "array([2.4, 2.4, 2.4, 2.4, 2.4])"
            ]
          },
          "metadata": {},
          "execution_count": 42
        }
      ]
    },
    {
      "cell_type": "markdown",
      "source": [
        "## CUDA Tensors"
      ],
      "metadata": {
        "id": "invaRliD-XOR"
      }
    },
    {
      "cell_type": "code",
      "source": [
        "#let us run this cell only if cuda is available\n",
        "# we will use ``torch.device`` objects to move tensors in and out of GPU\n",
        "if torch.cuda.is_available():\n",
        "  device = torch.device(\"cuda\")\n",
        "  y = torch.ones_like(x,device = device)\n",
        "  x = x.to(device)\n",
        "  print(z)\n",
        "  print(z.to(\"cpu\", torch.double))"
      ],
      "metadata": {
        "id": "XvkpoGAQ-baN"
      },
      "execution_count": 43,
      "outputs": []
    },
    {
      "cell_type": "markdown",
      "source": [
        "Forward Propogation"
      ],
      "metadata": {
        "id": "20rmSG8F_cdL"
      }
    },
    {
      "cell_type": "code",
      "source": [
        "a = torch.Tensor([2])\n",
        "b = torch.Tensor([-4])\n",
        "c = torch.Tensor([-2])\n",
        "d = torch.Tensor([2])\n",
        "\n",
        "e = a+b\n",
        "f = c*d\n",
        "\n",
        "g = e*f\n",
        "print(e,f,g)"
      ],
      "metadata": {
        "colab": {
          "base_uri": "https://localhost:8080/"
        },
        "id": "65hsmLif_gat",
        "outputId": "940be4dc-ccdd-47a7-fbe0-e54170f35638"
      },
      "execution_count": 44,
      "outputs": [
        {
          "output_type": "stream",
          "name": "stdout",
          "text": [
            "tensor([-2.]) tensor([-4.]) tensor([8.])\n"
          ]
        }
      ]
    },
    {
      "cell_type": "code",
      "source": [
        "x = torch.tensor(-3., requires_grad=True)\n",
        "y = torch.tensor(5., requires_grad=True)\n",
        "z = torch.tensor(-1., requires_grad=True)\n",
        "\n",
        "q = x + y\n",
        "f = q * z\n",
        "f.backward()\n",
        "print(\"Gradient of z,y,x are:\"+str(z.grad)+str(y.grad)+str(x.grad))"
      ],
      "metadata": {
        "colab": {
          "base_uri": "https://localhost:8080/"
        },
        "id": "jGFQGmI2_cCp",
        "outputId": "1d7bccc8-b7cb-46b0-8e07-85a5beea1c57"
      },
      "execution_count": 45,
      "outputs": [
        {
          "output_type": "stream",
          "name": "stdout",
          "text": [
            "Gradient of z,y,x are:tensor(2.)tensor(-1.)tensor(-1.)\n"
          ]
        }
      ]
    },
    {
      "cell_type": "markdown",
      "source": [
        "Fully Connected neural networks."
      ],
      "metadata": {
        "id": "tHH4BDHsN70W"
      }
    },
    {
      "cell_type": "code",
      "source": [
        "import torch\n",
        "input_layer = torch.rand(10)# declaration of inputs\n",
        "w1 = torch.rand(10,20)\n",
        "w2 = torch.rand(20,20)\n",
        "w3 = torch.rand(20,4)\n",
        "\n",
        "h1 = torch.matmul(input_layer,w1)# first hidden layer.\n",
        "h2 = torch.matmul(h1,w2)# subsequent hidden layer.\n",
        "output_layer = torch.matmul(h2,w3)\n",
        "\n",
        "print(h1,h2,output_layer,sep = \"\\n\")"
      ],
      "metadata": {
        "colab": {
          "base_uri": "https://localhost:8080/"
        },
        "id": "APiVkj0EN_CM",
        "outputId": "6ad748e7-076e-4716-98de-5c2c0ad99dd3"
      },
      "execution_count": 46,
      "outputs": [
        {
          "output_type": "stream",
          "name": "stdout",
          "text": [
            "tensor([2.6187, 3.4613, 3.8800, 2.9597, 2.3460, 2.6737, 3.2654, 3.0053, 2.5287,\n",
            "        2.0482, 3.2351, 2.8313, 2.8099, 2.3694, 2.1905, 3.4951, 2.7852, 2.8221,\n",
            "        2.9005, 3.2813])\n",
            "tensor([33.1590, 23.8894, 33.0219, 24.6570, 25.3319, 34.3669, 30.7313, 35.2582,\n",
            "        30.8955, 23.8908, 26.0742, 34.8628, 30.6363, 36.8704, 24.0531, 28.0790,\n",
            "        26.4971, 29.7101, 28.5470, 30.8682])\n",
            "tensor([298.2157, 345.4110, 250.3767, 336.3159])\n"
          ]
        }
      ]
    },
    {
      "cell_type": "markdown",
      "source": [
        "Building a neural network - Pytorch style"
      ],
      "metadata": {
        "id": "qSlopeNFO7X8"
      }
    },
    {
      "cell_type": "code",
      "source": [
        "import torch.nn as nn\n",
        "class Net(nn.Module):\n",
        "  def __init__(self):\n",
        "    super(Net, self).__init__()\n",
        "    self.fc1 = nn.Linear(10,20)\n",
        "    self.fc2 = nn.Linear(20,20)\n",
        "    self.output = nn.Linear(20,4)\n",
        "\n",
        "\n",
        "  def forward(self,x):\n",
        "    x = self.fc1(x)\n",
        "    x = self.fc2(x)\n",
        "    x = self.output(x)\n",
        "    return x\n",
        "\n",
        "\n",
        "input_layer = torch.rand(10)\n",
        "net = Net()\n",
        "result = net(input_layer)"
      ],
      "metadata": {
        "id": "IaPEuU8JO64U"
      },
      "execution_count": 47,
      "outputs": []
    },
    {
      "cell_type": "code",
      "source": [
        "result"
      ],
      "metadata": {
        "colab": {
          "base_uri": "https://localhost:8080/"
        },
        "id": "aHEz_qsxQAN-",
        "outputId": "623108aa-0786-498f-d5a2-836e7819248f"
      },
      "execution_count": 48,
      "outputs": [
        {
          "output_type": "execute_result",
          "data": {
            "text/plain": [
              "tensor([-0.1414,  0.1457, -0.0846, -0.2057], grad_fn=<AddBackward0>)"
            ]
          },
          "metadata": {},
          "execution_count": 48
        }
      ]
    },
    {
      "cell_type": "markdown",
      "source": [
        "## Backward propagation"
      ],
      "metadata": {
        "id": "yHYmyJBIv2Tf"
      }
    },
    {
      "cell_type": "code",
      "source": [
        "x = torch.tensor(4.,requires_grad=True)\n",
        "y = torch.tensor(-3.,requires_grad=True)\n",
        "z = torch.tensor(5.,requires_grad=True)\n",
        "\n",
        "q = x+y\n",
        "f = q*z\n",
        "\n",
        "f.backward()\n",
        "print(str(x.grad))\n",
        "print(str(y.grad))\n",
        "print(str(z.grad)) "
      ],
      "metadata": {
        "id": "w2gI5XDi1Sj5",
        "colab": {
          "base_uri": "https://localhost:8080/"
        },
        "outputId": "d8cfeff2-8f32-486d-d8fc-427b0fa9cabd"
      },
      "execution_count": 55,
      "outputs": [
        {
          "output_type": "stream",
          "name": "stdout",
          "text": [
            "tensor(5.)\n",
            "tensor(5.)\n",
            "tensor(1.)\n"
          ]
        }
      ]
    },
    {
      "cell_type": "markdown",
      "source": [
        "Example:\n",
        "Initialize random tensors x,y and z each having shape (1000,1000).\n",
        "Multiply x with y, putting the result in tensor q.\n",
        "Do an elementwise multiplication of tensor z with tensor q. putting the results in f.\n"
      ],
      "metadata": {
        "id": "b5nfS5ZOzjW8"
      }
    },
    {
      "cell_type": "code",
      "source": [
        "x = torch.rand(1000,1000, requires_grad = True)\n",
        "y = torch.rand(1000,1000, requires_grad = True)\n",
        "z = torch.rand(1000,1000, requires_grad = True)\n",
        "\n",
        "q = torch.matmul(x,y)\n",
        "f = z*q\n",
        "mean_f = torch.mean(f)\n",
        "print(mean_f)\n",
        "\n",
        "mean_f.backward()\n",
        "\n",
        "print(str(x.grad))\n",
        "print(str(y.grad))\n",
        "print(str(z.grad))"
      ],
      "metadata": {
        "colab": {
          "base_uri": "https://localhost:8080/"
        },
        "id": "ZlKg0Fsfz5y-",
        "outputId": "e787aa6d-ac16-4baf-f3b6-92e0c6d690b1"
      },
      "execution_count": 56,
      "outputs": [
        {
          "output_type": "stream",
          "name": "stdout",
          "text": [
            "tensor(125.1320, grad_fn=<MeanBackward0>)\n",
            "tensor([[0.0002, 0.0002, 0.0002,  ..., 0.0002, 0.0002, 0.0002],\n",
            "        [0.0002, 0.0002, 0.0002,  ..., 0.0002, 0.0002, 0.0002],\n",
            "        [0.0002, 0.0002, 0.0002,  ..., 0.0002, 0.0002, 0.0002],\n",
            "        ...,\n",
            "        [0.0002, 0.0002, 0.0002,  ..., 0.0003, 0.0002, 0.0002],\n",
            "        [0.0003, 0.0003, 0.0002,  ..., 0.0003, 0.0003, 0.0003],\n",
            "        [0.0002, 0.0002, 0.0002,  ..., 0.0003, 0.0002, 0.0003]])\n",
            "tensor([[0.0003, 0.0002, 0.0003,  ..., 0.0002, 0.0003, 0.0003],\n",
            "        [0.0003, 0.0002, 0.0003,  ..., 0.0002, 0.0003, 0.0003],\n",
            "        [0.0003, 0.0002, 0.0003,  ..., 0.0002, 0.0003, 0.0003],\n",
            "        ...,\n",
            "        [0.0003, 0.0002, 0.0003,  ..., 0.0002, 0.0002, 0.0002],\n",
            "        [0.0003, 0.0003, 0.0003,  ..., 0.0002, 0.0003, 0.0003],\n",
            "        [0.0003, 0.0002, 0.0003,  ..., 0.0002, 0.0003, 0.0002]])\n",
            "tensor([[0.0003, 0.0002, 0.0003,  ..., 0.0003, 0.0002, 0.0002],\n",
            "        [0.0002, 0.0002, 0.0002,  ..., 0.0003, 0.0002, 0.0003],\n",
            "        [0.0003, 0.0003, 0.0003,  ..., 0.0003, 0.0002, 0.0003],\n",
            "        ...,\n",
            "        [0.0003, 0.0002, 0.0002,  ..., 0.0003, 0.0002, 0.0002],\n",
            "        [0.0003, 0.0002, 0.0002,  ..., 0.0003, 0.0003, 0.0003],\n",
            "        [0.0003, 0.0003, 0.0003,  ..., 0.0003, 0.0003, 0.0003]])\n"
          ]
        }
      ]
    }
  ]
}