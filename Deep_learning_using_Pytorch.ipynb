{
  "nbformat": 4,
  "nbformat_minor": 0,
  "metadata": {
    "colab": {
      "provenance": [],
      "collapsed_sections": [],
      "authorship_tag": "ABX9TyOfKr+7FuAQGZ2Udp0myWli",
      "include_colab_link": true
    },
    "kernelspec": {
      "name": "python3",
      "display_name": "Python 3"
    },
    "language_info": {
      "name": "python"
    }
  },
  "cells": [
    {
      "cell_type": "markdown",
      "metadata": {
        "id": "view-in-github",
        "colab_type": "text"
      },
      "source": [
        "<a href=\"https://colab.research.google.com/github/Harish-aditya/DeepLearning_using-_Pytorch./blob/main/Deep_learning_using_Pytorch.ipynb\" target=\"_parent\"><img src=\"https://colab.research.google.com/assets/colab-badge.svg\" alt=\"Open In Colab\"/></a>"
      ]
    },
    {
      "cell_type": "markdown",
      "source": [
        "Import Functions."
      ],
      "metadata": {
        "id": "B2QsMrNdDNT9"
      }
    },
    {
      "cell_type": "code",
      "execution_count": null,
      "metadata": {
        "id": "SzaAkfEm5dzk"
      },
      "outputs": [],
      "source": [
        "from __future__ import print_function\n",
        "import torch"
      ]
    },
    {
      "cell_type": "markdown",
      "source": [
        "Pytorch compared to NumPy\n",
        "Matrix formation using Pytorch"
      ],
      "metadata": {
        "id": "-9iQm2WvHSaj"
      }
    },
    {
      "cell_type": "code",
      "source": [
        "torch.tensor([[2,3,5],[1,2,9]])"
      ],
      "metadata": {
        "colab": {
          "base_uri": "https://localhost:8080/"
        },
        "id": "inTTsJM-G0I5",
        "outputId": "2a02f57a-ab72-4751-918b-8413c1b2fc17"
      },
      "execution_count": null,
      "outputs": [
        {
          "output_type": "execute_result",
          "data": {
            "text/plain": [
              "tensor([[2, 3, 5],\n",
              "        [1, 2, 9]])"
            ]
          },
          "metadata": {},
          "execution_count": 2
        }
      ]
    },
    {
      "cell_type": "code",
      "source": [
        "torch.rand(2,2)"
      ],
      "metadata": {
        "colab": {
          "base_uri": "https://localhost:8080/"
        },
        "id": "C2YxlxSYKdYF",
        "outputId": "0aab2965-7cdd-4af4-fa2a-418bdc386c0d"
      },
      "execution_count": null,
      "outputs": [
        {
          "output_type": "execute_result",
          "data": {
            "text/plain": [
              "tensor([[0.0417, 0.3599],\n",
              "        [0.3639, 0.1464]])"
            ]
          },
          "metadata": {},
          "execution_count": 3
        }
      ]
    },
    {
      "cell_type": "code",
      "source": [
        "a = torch.rand((3,5))\n",
        "a"
      ],
      "metadata": {
        "colab": {
          "base_uri": "https://localhost:8080/"
        },
        "id": "s5C1Te0lKiTG",
        "outputId": "9f7facf4-3550-4358-8bfa-fbf47bf23434"
      },
      "execution_count": null,
      "outputs": [
        {
          "output_type": "execute_result",
          "data": {
            "text/plain": [
              "tensor([[0.7975, 0.5333, 0.3637, 0.1565, 0.6207],\n",
              "        [0.7823, 0.0737, 0.6247, 0.0054, 0.3446],\n",
              "        [0.7099, 0.8864, 0.8046, 0.4897, 0.3765]])"
            ]
          },
          "metadata": {},
          "execution_count": 5
        }
      ]
    },
    {
      "cell_type": "code",
      "source": [
        "a.shape"
      ],
      "metadata": {
        "colab": {
          "base_uri": "https://localhost:8080/"
        },
        "id": "9hmmMdR5Kniu",
        "outputId": "026954df-f3af-4a52-f8d6-9fc691f6b078"
      },
      "execution_count": null,
      "outputs": [
        {
          "output_type": "execute_result",
          "data": {
            "text/plain": [
              "torch.Size([3, 5])"
            ]
          },
          "metadata": {},
          "execution_count": 7
        }
      ]
    },
    {
      "cell_type": "markdown",
      "source": [
        "Matrix formation using numpy"
      ],
      "metadata": {
        "id": "nXRAT6RZLIMa"
      }
    },
    {
      "cell_type": "code",
      "source": [
        "import numpy as np\n",
        "np.array([[2,3,4],[1,2,3]])"
      ],
      "metadata": {
        "colab": {
          "base_uri": "https://localhost:8080/"
        },
        "id": "oD6EVcE3LFuf",
        "outputId": "0c229d8c-4a76-481a-c70a-fcc325517d30"
      },
      "execution_count": null,
      "outputs": [
        {
          "output_type": "execute_result",
          "data": {
            "text/plain": [
              "array([[2, 3, 4],\n",
              "       [1, 2, 3]])"
            ]
          },
          "metadata": {},
          "execution_count": 9
        }
      ]
    },
    {
      "cell_type": "code",
      "source": [
        "np.random.rand(2,2)"
      ],
      "metadata": {
        "colab": {
          "base_uri": "https://localhost:8080/"
        },
        "id": "lHbScLckVZaI",
        "outputId": "d6fd6aae-53b4-4950-ef96-fd46bef16ea6"
      },
      "execution_count": null,
      "outputs": [
        {
          "output_type": "execute_result",
          "data": {
            "text/plain": [
              "array([[0.38562512, 0.01168776],\n",
              "       [0.3485075 , 0.34285862]])"
            ]
          },
          "metadata": {},
          "execution_count": 10
        }
      ]
    },
    {
      "cell_type": "markdown",
      "source": [
        "# Construct a randomly initialized matrix and operation using Pytorch"
      ],
      "metadata": {
        "id": "dkj1JzVrVtDc"
      }
    },
    {
      "cell_type": "code",
      "source": [
        "a = torch.rand((2,2))\n",
        "b = torch.rand((2,2))"
      ],
      "metadata": {
        "id": "FgxgTTrVVdew"
      },
      "execution_count": null,
      "outputs": []
    },
    {
      "cell_type": "code",
      "source": [
        "torch.matmul(a,b)"
      ],
      "metadata": {
        "colab": {
          "base_uri": "https://localhost:8080/"
        },
        "id": "liD93K_pWfWm",
        "outputId": "cfc24366-94a0-4626-ada0-229b297d78a0"
      },
      "execution_count": null,
      "outputs": [
        {
          "output_type": "execute_result",
          "data": {
            "text/plain": [
              "tensor([[0.1111, 0.4663],\n",
              "        [0.0836, 0.3634]])"
            ]
          },
          "metadata": {},
          "execution_count": 13
        }
      ]
    },
    {
      "cell_type": "code",
      "source": [
        "a*b"
      ],
      "metadata": {
        "colab": {
          "base_uri": "https://localhost:8080/"
        },
        "id": "UXa40uDZWodf",
        "outputId": "58d2a323-8fd3-44a6-a2da-3ddab0745a53"
      },
      "execution_count": null,
      "outputs": [
        {
          "output_type": "execute_result",
          "data": {
            "text/plain": [
              "tensor([[0.0150, 0.0486],\n",
              "        [0.2044, 0.2601]])"
            ]
          },
          "metadata": {},
          "execution_count": 14
        }
      ]
    },
    {
      "cell_type": "code",
      "source": [
        "a"
      ],
      "metadata": {
        "colab": {
          "base_uri": "https://localhost:8080/"
        },
        "id": "aTEaQ24ZWtKH",
        "outputId": "76932e9d-192e-4a05-86f3-ec4eb92e606b"
      },
      "execution_count": null,
      "outputs": [
        {
          "output_type": "execute_result",
          "data": {
            "text/plain": [
              "tensor([[0.7599, 0.3956],\n",
              "        [0.8413, 0.2759]])"
            ]
          },
          "metadata": {},
          "execution_count": 15
        }
      ]
    },
    {
      "cell_type": "code",
      "source": [
        "a"
      ],
      "metadata": {
        "colab": {
          "base_uri": "https://localhost:8080/"
        },
        "id": "_Qw5YckNWucz",
        "outputId": "980cd8fb-bf33-45af-b7d7-148a65e12c3a"
      },
      "execution_count": null,
      "outputs": [
        {
          "output_type": "execute_result",
          "data": {
            "text/plain": [
              "tensor([[0.7599, 0.3956],\n",
              "        [0.8413, 0.2759]])"
            ]
          },
          "metadata": {},
          "execution_count": 16
        }
      ]
    },
    {
      "cell_type": "markdown",
      "source": [
        "Construct a randomly initialized matrix and operation using NumPy"
      ],
      "metadata": {
        "id": "-aJtdNhXW-Ba"
      }
    },
    {
      "cell_type": "code",
      "source": [
        "a = np.random.rand(2,2)\n",
        "b = np.random.rand(2,2)"
      ],
      "metadata": {
        "id": "gOYvd1V2XDOq"
      },
      "execution_count": null,
      "outputs": []
    },
    {
      "cell_type": "code",
      "source": [
        "np.dot(a,b)\n",
        "# normal matrix multiplication\n",
        "# Where the condition of number of columns of first array should be equal to number of rows of second array is checked.\n",
        "# then only numpy.dot() function take place else it throws an error."
      ],
      "metadata": {
        "colab": {
          "base_uri": "https://localhost:8080/"
        },
        "id": "xgB04qGZXMdO",
        "outputId": "51e78536-03fa-4e60-e767-bc2ac4ed4b67"
      },
      "execution_count": null,
      "outputs": [
        {
          "output_type": "execute_result",
          "data": {
            "text/plain": [
              "array([[0.62231735, 0.40266396],\n",
              "       [1.06991177, 0.72037025]])"
            ]
          },
          "metadata": {},
          "execution_count": 18
        }
      ]
    },
    {
      "cell_type": "code",
      "source": [
        "np.multiply(a,b)"
      ],
      "metadata": {
        "colab": {
          "base_uri": "https://localhost:8080/"
        },
        "id": "dz-PcCqhXOvr",
        "outputId": "5ff16bdd-9969-48e4-8f51-c1f8ba7b34be"
      },
      "execution_count": null,
      "outputs": [
        {
          "output_type": "execute_result",
          "data": {
            "text/plain": [
              "array([[0.04602721, 0.56073218],\n",
              "       [0.73631319, 0.00393513]])"
            ]
          },
          "metadata": {},
          "execution_count": 19
        }
      ]
    }
  ]
}